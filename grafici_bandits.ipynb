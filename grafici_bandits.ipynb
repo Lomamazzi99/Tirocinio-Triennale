{
 "cells": [
  {
   "cell_type": "markdown",
   "id": "8053daac",
   "metadata": {},
   "source": [
    "# README\n",
    "\n",
    "Grafici per algoritmo SB e SBl"
   ]
  },
  {
   "cell_type": "code",
   "execution_count": 2,
   "id": "10175a01",
   "metadata": {},
   "outputs": [],
   "source": [
    "def draw_F_G(F, G):\n",
    "    fig, axs = plt.subplots(1,2, figsize = (15,5))\n",
    "    fig.suptitle(\"Distribuzione Valori F, G\", fontsize = 20)\n",
    "    axs[0].hist(F)\n",
    "    axs[0].set_ylabel(\"Frequenza\")\n",
    "    axs[0].set_xlabel(\"F\")\n",
    "    axs[1].hist(G)\n",
    "    axs[1].set_ylabel(\"Frequenza\")\n",
    "    axs[1].set_xlabel(\"G\")"
   ]
  },
  {
   "cell_type": "code",
   "execution_count": 3,
   "id": "b45b8a97",
   "metadata": {},
   "outputs": [],
   "source": [
    "def draw_F_G_each_round(F, G):\n",
    "    fig, axs = plt.subplots(1,2, figsize = (15,5))\n",
    "    fig.suptitle(\"Distribuzione Valori F, G\", fontsize = 20)\n",
    "    axs[0].plot(F, marker='o', linestyle='-', color='blue')\n",
    "    axs[0].set_ylabel(\"Valore\")\n",
    "    axs[0].set_xlabel(\"t\")\n",
    "    axs[1].plot(G, marker='o', linestyle='-', color='red')\n",
    "    axs[1].set_ylabel(\"Valore\")\n",
    "    axs[1].set_xlabel(\"t\")"
   ]
  },
  {
   "cell_type": "code",
   "execution_count": 4,
   "id": "5e968329",
   "metadata": {},
   "outputs": [],
   "source": [
    "def draw_feedback(feedback_s, feedback_b):\n",
    "    fig, axs = plt.subplots(1,3, figsize = (15,5))\n",
    "    fig.suptitle(\"Distribuzione Feedback\", fontsize = 20)\n",
    "    sizes_s = [sum(feedback_s), len(feedback_s) -sum(feedback_s)] \n",
    "    sizes_b = [sum(feedback_b), len(feedback_b) -sum(feedback_b)]\n",
    "    \n",
    "    #vogliamo capire come sono distribuiti i feedback:\n",
    "    #il valore sarà pari a 2 se abbiamo entrambi 1, 1 se solo uno dei due è diverso da 0, 0 altrimenti\n",
    "    both_feedback = [feedback_s[i] + feedback_b[i] for i in range(0, len(feedback_b))]\n",
    "    a,b,c = [], [], []\n",
    "    for i in both_feedback:\n",
    "        if(i == 2): a.append(i)\n",
    "        elif(i == 1): b.append(i)\n",
    "        else: c.append(i)\n",
    "    \n",
    "    sizes_all = [len(a),len(b),len(c)]\n",
    "    axs[0].pie(sizes_s, labels = [\"1\", \"0\"],autopct='%1.1f%%')\n",
    "    axs[0].set_title(\"Seller\")\n",
    "    axs[1].pie(sizes_b, labels = [\"1\", \"0\"],autopct='%1.1f%%')\n",
    "    axs[1].set_title(\"Buyer\")\n",
    "    axs[2].pie(sizes_all, labels = [\"Entrambi\", \"Solo Uno\", \"Nessuno\"],autopct='%1.1f%%')\n",
    "    axs[2].set_title(\"Seller e Buyer\")"
   ]
  },
  {
   "cell_type": "code",
   "execution_count": 5,
   "id": "99974e98",
   "metadata": {},
   "outputs": [],
   "source": [
    "def draw_seller_buyer_distribution(S,B):\n",
    "    fig, axs = plt.subplots(1,2, figsize = (15,5))\n",
    "    fig.suptitle(\"Distribuzione Seller, Buyer\", fontsize = 20)\n",
    "    axs[0].hist(S)\n",
    "    axs[0].set_ylabel(\"Frequenza\")\n",
    "    axs[0].set_xlabel(\"Seller\")\n",
    "    axs[1].hist(B)\n",
    "    axs[1].set_ylabel(\"Frequenza\")\n",
    "    axs[1].set_xlabel(\"Buyer\")"
   ]
  },
  {
   "cell_type": "code",
   "execution_count": 6,
   "id": "e4d9b945",
   "metadata": {},
   "outputs": [],
   "source": [
    "from collections import defaultdict\n",
    "\n",
    "def draw_reward_arm(rewards, arms):\n",
    "    fig, axs = plt.subplots(1,2, figsize = (15,5))\n",
    "    fig.suptitle(\"Distribuzione Rewards, Arms\", fontsize = 20)\n",
    "    axs[0].hist(rewards)\n",
    "    axs[0].set_xlabel(\"Rewards\")\n",
    "    \n",
    "    res = defaultdict(list)\n",
    "    for key, val in sorted(arms.items()):\n",
    "        res[val].append(key)\n",
    "        \n",
    "    times_arm_choosen = res.keys()\n",
    "    num_of_arms = [len(i) for i in res.values()]\n",
    "    \n",
    "    axs[1].bar(times_arm_choosen, num_of_arms)\n",
    "    axs[1].set_xlabel(\"Has Been Choosen\")\n",
    "    axs[1].set_ylabel(\"Arms\")\n",
    "    axs[1].annotate('Has Been Choosen = s of index\\nArms = i of index',\n",
    "            xy = (1.0, -0.2),\n",
    "            xycoords='axes fraction',\n",
    "            ha='right',\n",
    "            va=\"center\",\n",
    "            fontsize=10)\n",
    "  "
   ]
  },
  {
   "cell_type": "code",
   "execution_count": 7,
   "id": "1df540ff",
   "metadata": {},
   "outputs": [],
   "source": [
    "#Per MOSS -> Regret che mi aspetto: achieving a $\\sqrt{nK}$ regret in the worst case\n",
    "#in generale SB -> O(T^(2/3))\n",
    "def draw_regret_upper_bound_SB(num_rounds):\n",
    "    upper_bound = [i**(2/3) for i in range(0,num_rounds)]\n",
    "    x = np.arange(0,num_rounds)\n",
    "    plt.legend(['T^(2/3)'],loc=\"upper left\")\n",
    "    plt.plot(x, upper_bound)\n"
   ]
  },
  {
   "cell_type": "code",
   "execution_count": 8,
   "id": "ab2d68dd",
   "metadata": {},
   "outputs": [],
   "source": [
    "#Per MOSS -> Regret che mi aspetto: achieving a $\\sqrt{nK}$ regret in the worst case\n",
    "#in generale -> O(T^(3/4))\n",
    "def draw_regret_upper_bound_SBL(num_rounds):\n",
    "    upper_bound = [i**(3/4) for i in range(0,num_rounds)]\n",
    "    x = np.arange(0,num_rounds)\n",
    "    plt.legend(['T^(3/4)'],loc=\"upper left\")\n",
    "    plt.plot(x, upper_bound)\n"
   ]
  },
  {
   "cell_type": "markdown",
   "id": "dfaa89c8",
   "metadata": {},
   "source": [
    "## GRAFICI SBI"
   ]
  },
  {
   "cell_type": "code",
   "execution_count": 10,
   "id": "6ce74e51",
   "metadata": {},
   "outputs": [],
   "source": [
    "#gft medio\n",
    "def draw_gft_medium_sum_plot(gft_all):\n",
    "    #i+1 != 0 per ogni i\n",
    "    cumulative_list = [(sum(gft_all[:i]) * 1/(i+1)) for i in range(0, len(gft_all))]\n",
    "   \n",
    "    plt.plot(cumulative_list, marker='o', linestyle='-')\n",
    "    plt.xlabel('t')\n",
    "    plt.ylabel('Somma Cumulativa')\n",
    "    plt.title('Istogramma Somma GFT Medio')\n",
    "    plt.show()"
   ]
  },
  {
   "cell_type": "code",
   "execution_count": 11,
   "id": "1c6f0901",
   "metadata": {},
   "outputs": [],
   "source": [
    "#gft medio\n",
    "def draw_gft_medium_sum_hist(gft_all):\n",
    "    #i+1 != 0 per ogni i\n",
    "    cumulative_list = [(sum(gft_all[:i]) * 1/(i+1)) for i in range(0, len(gft_all))]\n",
    "    plt.hist(cumulative_list, edgecolor='black')\n",
    "    plt.xlabel('Valori GFT')\n",
    "    plt.ylabel('Frequenza')\n",
    "    \n",
    "    plt.title('Istogramma somma GFT')\n",
    "    plt.show()"
   ]
  },
  {
   "cell_type": "code",
   "execution_count": 12,
   "id": "09d0837c",
   "metadata": {},
   "outputs": [],
   "source": [
    "#gft medio\n",
    "def draw_gft_total_sum_plot(gft_all):\n",
    "    #i+1 != 0 per ogni i\n",
    "    cumulative_list = [sum(gft_all[:i]) for i in range(0, len(gft_all))]\n",
    "   \n",
    "    plt.plot(cumulative_list, marker='o', linestyle='-')\n",
    "    plt.xlabel('t')\n",
    "    plt.ylabel('Somma Cumulativa')\n",
    "    plt.title('Istogramma Somma GFT')\n",
    "    plt.show()"
   ]
  },
  {
   "cell_type": "code",
   "execution_count": 13,
   "id": "fa201337",
   "metadata": {},
   "outputs": [],
   "source": [
    "# gft con prezzo ottimo p_star\n",
    "def draw_gft_p_star(gft_all):\n",
    "    plt.hist(gft_all,  edgecolor='black')\n",
    "    plt.xlabel('Valori GFT')\n",
    "    plt.ylabel('Frequenza')\n",
    "    plt.title('Istogramma dei valori GFT')\n",
    "    plt.show()"
   ]
  },
  {
   "cell_type": "code",
   "execution_count": 14,
   "id": "c9f6b8de",
   "metadata": {},
   "outputs": [],
   "source": [
    "def draw_regret_SBL(gft_all, num_rounds):\n",
    "    upper_bound = [i**(3/4) for i in range(0,num_rounds)]\n",
    "    x = np.arange(0,num_rounds)\n",
    "    cumulative_list = [(sum(gft_all[:i])) for i in range(0, len(gft_all))]\n",
    "    plt.plot(cumulative_list, marker='o', linestyle='-')\n",
    "    plt.plot(x, upper_bound, color = 'red')\n",
    "    plt.legend(['GFT ALL','T^(3/4)'],loc=\"upper left\")\n",
    "    plt.show()\n"
   ]
  },
  {
   "cell_type": "code",
   "execution_count": null,
   "id": "9e2f14a7",
   "metadata": {},
   "outputs": [],
   "source": []
  }
 ],
 "metadata": {
  "kernelspec": {
   "display_name": "Python 3 (ipykernel)",
   "language": "python",
   "name": "python3"
  },
  "language_info": {
   "codemirror_mode": {
    "name": "ipython",
    "version": 3
   },
   "file_extension": ".py",
   "mimetype": "text/x-python",
   "name": "python",
   "nbconvert_exporter": "python",
   "pygments_lexer": "ipython3",
   "version": "3.9.19"
  }
 },
 "nbformat": 4,
 "nbformat_minor": 5
}

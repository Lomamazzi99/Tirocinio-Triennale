{
 "cells": [
  {
   "cell_type": "code",
   "execution_count": 1,
   "id": "b729525d-ea4b-4cbf-bec2-c2f333fcbc23",
   "metadata": {},
   "outputs": [],
   "source": [
    "%run distributions.ipynb"
   ]
  },
  {
   "cell_type": "markdown",
   "id": "2393de1d",
   "metadata": {},
   "source": [
    "# FBP"
   ]
  },
  {
   "cell_type": "markdown",
   "id": "6ab40d57-5e74-4335-b644-1c59aac72b22",
   "metadata": {},
   "source": [
    "fare stessa distribuzione, MA intervalli diversi, magari uguali magari disgiunti (il FBP impara molto velocemente, magari fa meglio di radice di T). trovare punti in cui è possibile fare conti a mano)\n",
    "\n",
    "overleaf parte teoria\n",
    "git parte pratica\n",
    "\n",
    "plottare regret e pseudo regret(valore atteso)"
   ]
  },
  {
   "cell_type": "markdown",
   "id": "dc0a096f",
   "metadata": {},
   "source": [
    "Supponiamo che \n",
    "$(S,B), (S_1, B_1), (S_2, B_2),...$\n",
    "sia un processo di coppie di variabili aleatorie indipendenti e identicamente distribuite. Allora: \n",
    "\n",
    "$$\n",
    "\\sum_{t=1}^T GFT(p, s_t, b_t)\n",
    "$$\n",
    "\n",
    "$$\n",
    "\\begin{align*}\n",
    "R(\\alpha) = \\left[ \\sum_{t=1}^{T} GFT(p, S, B) - \\sum_{t=1}^{T} GFT(p_t, S_t, B_t) \\right]\\\\\n",
    "= \\sum_{t=1}^{T} \\left[ GFT(p, S, B) - \\sum_{t=1}^{T} GFT(p_t, S_t, B_t) \\right]\\\\\n",
    "= T \\left[ GFT(p, S, B) - \\sum_{t=1}^{T} GFT(p_t, S_t, B_t) \\right] \\\\\n",
    "\\leq c \\cdot \\sqrt{T}\n",
    "\\end{align*}\n",
    "$$\n",
    "\n",
    "Per cui, per calcolarti $R_T(\\alpha)$, possiamo dapprima calcolarci (a mano, se i conti ci sono amici, o computazionalmente, se ci sono nemici) la quantità:\n",
    "$\\mathbb E\\left[ GFT(p, S, B) \\right] p \\in [0,1]$\n",
    "e poi lanciare il processo stocastico e calcolarci: \n",
    "\n",
    " \n",
    "$\\sum_{t=1}^{T} {GFT(p_t, S_t, B_t)}$"
   ]
  },
  {
   "cell_type": "markdown",
   "id": "57f015e3-ebe2-4121-aab2-a6ea4b46cc86",
   "metadata": {},
   "source": [
    "## Distribuzione Uniforme\n",
    "\n",
    "Se 𝑆 e 𝐵 sono tra loro indipendenti ed entrambi con distribuzione uniforme, allora: \n",
    "\n",
    "$\n",
    "\\begin{align*}\n",
    "& \\forall p \\in [0,1], E [ GFT(p, S, B) ] = \\\\\n",
    "& = E [ (B-S) \\cdot I \\{ S \\leq p \\leq B \\} ]\\\\\n",
    "& = \\int \\int (b-s) \\cdot \\{ s \\leq p \\leq b \\} \\cdot P_{(S,B)} (s,b) \\, ds \\, db  \\\\\n",
    "& = \\int \\int (b-s) \\cdot \\{ s \\leq p \\leq b \\} \\, ds \\, db\n",
    "\\end{align*}\n",
    "$\n",
    "\n",
    "\n",
    "Dunque, dobbiamo calcolarci questo integrale doppio e poi trovare quel 𝑝 ∈ [0,1] che lo massimizza. \n",
    "\n",
    "\n",
    "\n",
    "\\begin{align*}\n",
    "\\mathbb E[(b-s)I\\{s\\leq p\\leq b\\}] & = \\int_0^1 \\int_0^1 (b-s) \\mathbb I\\{s\\leq p\\leq b\\} \\, ds \\, db \\\\\n",
    "& = \\int_0^1 \\int_0^p (b-s) \\mathbb I\\{s \\leq p\\} \\, ds \\, db \\\\\n",
    "& = \\int_p^1 \\int_0^p (b-s) \\, ds \\, db \\\\\n",
    "& = \\int_p^1 \\int_0^p b ds - \\int_0^p s ds \\\\\n",
    "& = \\int_p^1 b\\cdot \\int_0^p ds - \\int_0^p s ds \\\\\n",
    "& = \\int_p^1 b\\cdot (p - \\frac{p^2}{2}) db\\\\\n",
    "& = p \\int_p^1 b db - \\frac{p^2}{2} \\int_p^1 db \\\\\n",
    "& = p (\\frac{1}{2} - \\frac{p^2}{2}) - \\frac{p^2}{2} (1-p)  \\\\\n",
    "& = \\frac{p}{2} - \\frac{p^3}{2} - \\frac{p^2}{2} + p^3/2 \\\\\n",
    "& = \\frac{p}{2} - \\frac{p^2}{2} \\\\\n",
    "& = \\frac{p}{2}(1-p)\n",
    "\\end{align*}\n",
    "\n",
    "\n",
    "\\begin{align*}\n",
    "\\frac{p}{2}(1-p):\\begin{cases}\n",
    "p=0, p=1 \\rightarrow v=0 \\\\\n",
    "p=\\frac{1}{2} \\rightarrow v=\\frac{1}{8}\n",
    "\\end{cases}\n",
    "\\end{align*}\n",
    "\n",
    "\n",
    "\\begin{align*}\n",
    "\\max_{p\\in[0,1]} \\rightarrow \\frac{1}{8} \\\\\n",
    "T^* \\max_{p\\in[0,1]} = \\frac{T}{8}\n",
    "\\end{align*}\n"
   ]
  },
  {
   "cell_type": "markdown",
   "id": "b20ff2ee",
   "metadata": {},
   "source": [
    "## Distribuzione Beta\n",
    "\n",
    "https://www.stat.rice.edu/~dobelman/textfiles/DistributionsHandbook.pdf\n",
    "\n",
    "https://people.dmi.unipr.it/alessandro.zaccagnini/psfiles/lezioni/dott2006.pdf\n",
    "\n",
    "Se $S$ e $B$ fossero distribuite secondo una distribuzione beta, dobbiamo adattare il calcolo del valore atteso di $T \\cdot \\mathbb {E}[GFT(p, S, B)]$ in base alla nuova distribuzione.\n",
    "\n",
    "La distribuzione beta è caratterizzata dai parametri $\\alpha$ e $\\beta$, che rappresentano la forma della distribuzione.\n",
    "\n",
    "In generale, per una distribuzione beta con parametri $\\alpha$ e $\\beta$, la funzione di densità è data da:\n",
    "\n",
    "$$[f(x; \\alpha, \\beta) = \\frac{x^{\\alpha-1} \\cdot (1 - x)^{\\beta-1}}{B(\\alpha, \\beta)}]$$\n",
    "\n",
    "Dove ${B(\\alpha, \\beta)}$ è la funzione beta (di Eulero), utilizzata come fattore di normalizzazione per rendere l'integrale della funzione di densità pari a 1, pari a:\n",
    "\n",
    "$$\n",
    "B(\\alpha, \\beta) = \\int_{0}^{1} t^{\\alpha - 1} (1 - t)^{\\beta - 1} \\, dt\n",
    "$$\n",
    "\n",
    "Se $S$ e $B$ sono distribuite secondo una distribuzione beta con parametri $\\alpha_S$ e $\\beta_S$ e $\\alpha_B$ e $\\beta_B$ rispettivamente, possiamo scrivere la funzione di densità di $S$ come $f_S(s) = \\frac{s^{\\alpha_S - 1} \\cdot (1 - s)^{\\beta_S - 1}}{B(\\alpha_S, \\beta_S)}$ e la funzione di densità di $B$ come $f_B(b) = \\frac{b^{\\alpha_B - 1} \\cdot (1 - b)^{\\beta_B - 1}}{B(\\alpha_B, \\beta_B)}$.\n",
    "\n",
    "Il valore atteso di $GFT(p, S, B)$ rispetto alle distribuzioni di $S$ e $B$ è quindi dato dall'integrale doppio:\n",
    "\n",
    "\n",
    "$\n",
    "\\begin{align*}\n",
    "\\mathbb{E}[GFT(p, S, B)] &= \\int_{0}^{1} \\int_{0}^{1} (b - s) \\cdot \\mathbb I \\{s \\leq p \\leq b\\} \\cdot f_S(s) \\cdot f_B(b) \\, ds \\, db \\\\\n",
    "&= \\int_{0}^{1} \\int_{0}^{1} (b - s) \\cdot \\mathbb I \\{s \\leq p \\leq b\\} \\cdot \\frac{s^{\\alpha_S - 1} \\cdot (1 - s)^{\\beta_S - 1}}{B(\\alpha_S, \\beta_S)} \\cdot \\frac{b^{\\alpha_B - 1} \\cdot (1 - b)^{\\beta_B - 1}}{B(\\alpha_B, \\beta_B)} \\, ds \\, db \\\\\n",
    "&= \\int_{p}^{1} \\int_{0}^{p} (b - s) \\cdot \\frac{s^{\\alpha_S - 1} \\cdot (1 - s)^{\\beta_S - 1}}{B(\\alpha_S, \\beta_S)} \\cdot \\frac{b^{\\alpha_B - 1} \\cdot (1 - b)^{\\beta_B - 1}}{B(\\alpha_B, \\beta_B)} \\, db \\, ds \\\\\n",
    "\\end{align*}\n",
    "$\n"
   ]
  },
  {
   "cell_type": "code",
   "execution_count": 3,
   "id": "5dac8323-e7f7-46cd-ae55-5e7e181763f5",
   "metadata": {},
   "outputs": [],
   "source": [
    "import numpy as np\n",
    "from scipy.stats import beta\n",
    "from scipy.integrate import dblquad\n",
    "\n",
    "\"\"\"\n",
    "  Calcola il valore atteso di una funzione integranda basata su distribuzioni beta.\n",
    "\n",
    "  La funzione integranda viene calcolata in base ai parametri delle distribuzioni beta \n",
    "  del seller (S) e del buyer (B).\n",
    "\n",
    "  Args:\n",
    "      alpha_S: parametro alpha della distribuzione beta di vendita.\n",
    "      beta_S: parametro beta della distribuzione beta di vendita.\n",
    "      alpha_B: parametro alpha della distribuzione beta di acquisto.\n",
    "      beta_B: parametro beta della distribuzione beta di acquisto.\n",
    "      p: probabilità di acquisto.\n",
    "      T: orizzonte temporale.\n",
    "\n",
    "  Returns:\n",
    "      Valore atteso moltiplicato per T.\n",
    "  \"\"\"\n",
    "\n",
    "def expected_value_beta(alpha_S, beta_S, alpha_B, beta_B, p, T):\n",
    "  \n",
    "  # Funzione integranda in un punto (b,s)\n",
    "    \"\"\"\n",
    "    Args:\n",
    "        b: valore di acquisto casuale.\n",
    "        s: valore di vendita casuale.\n",
    "        alpha_S: parametro alpha della distribuzione beta di vendita.\n",
    "        beta_S: parametro beta della distribuzione beta di vendita.\n",
    "        alpha_B: parametro alpha della distribuzione beta di acquisto.\n",
    "        beta_B: parametro beta della distribuzione beta di acquisto.\n",
    "\n",
    "    Returns:\n",
    "        Prodotto di (b - s) per le densità di probabilità beta di s e b.\n",
    "    \"\"\"\n",
    "    def integrand(b, s, alpha_S, beta_S, alpha_B, beta_B):\n",
    "        return (b - s) * beta.pdf(s, alpha_S, beta_S) * beta.pdf(b, alpha_B, beta_B)\n",
    "\n",
    "  # Calcola il valore atteso\n",
    "    \"\"\"\n",
    "    Utilizza la funzione dblquad per calcolare la doppia integrazione della funzione integranda.\n",
    "\n",
    "    Args:\n",
    "        p: probabilità di acquisto.\n",
    "        alpha_S: parametro alpha della distribuzione beta di vendita.\n",
    "        beta_S: parametro beta della distribuzione beta di vendita.\n",
    "        alpha_B: parametro alpha della distribuzione beta di acquisto.\n",
    "        beta_B: parametro beta della distribuzione beta di acquisto.\n",
    "\n",
    "    Returns:\n",
    "        Valore atteso.\n",
    "    \"\"\"\n",
    "    def calculate_expected_value(p, alpha_S, beta_S, alpha_B, beta_B):\n",
    "   \n",
    "    # Limiti di integrazione\n",
    "        outer_lower_limit = p  # Limite inferiore dell'integrale interno\n",
    "        outer_upper_limit = 1  # Limite superiore dell'integrale interno\n",
    "\n",
    "        inner_lower_limit = 0  # Limite inferiore dell'integrale esterno\n",
    "        inner_upper_limit = p  # Limite superiore dell'integrale esterno\n",
    "\n",
    "    # Argomenti per la funzione integranda\n",
    "        args_integrand = (alpha_S, beta_S, alpha_B, beta_B)\n",
    "\n",
    "    # Calcola la doppia integrazione con dblquad\n",
    "        result, _ = dblquad(integrand, outer_lower_limit, outer_upper_limit, inner_lower_limit, inner_upper_limit, args=args_integrand)\n",
    "\n",
    "    # Ottieni il valore atteso\n",
    "        expected_value = result\n",
    "\n",
    "    # Restituisci il valore atteso moltiplicato per T\n",
    "        return expected_value * T\n",
    "\n",
    "  # Calcola il valore atteso\n",
    "    expected_value = calculate_expected_value(p, alpha_S, beta_S, alpha_B, beta_B)\n",
    "\n",
    "  # Restituisci il valore atteso già moltiplicato per T\n",
    "    return expected_value"
   ]
  },
  {
   "cell_type": "code",
   "execution_count": 4,
   "id": "299dbf12-563c-4b28-8a5f-cabc36217ee1",
   "metadata": {},
   "outputs": [
    {
     "name": "stdout",
     "output_type": "stream",
     "text": [
      "alpha_S: (1.41, 1.3), alpha_B: (0.95, 7.36)\n",
      "p:  0.6314916784485565\n",
      "Valore atteso:  -76.33865270750462\n"
     ]
    },
    {
     "ename": "NameError",
     "evalue": "name 'draw_pdf_beta' is not defined",
     "output_type": "error",
     "traceback": [
      "\u001b[0;31m---------------------------------------------------------------------------\u001b[0m",
      "\u001b[0;31mNameError\u001b[0m                                 Traceback (most recent call last)",
      "Cell \u001b[0;32mIn[4], line 19\u001b[0m\n\u001b[1;32m     13\u001b[0m \u001b[38;5;28mprint\u001b[39m(\u001b[38;5;124m\"\u001b[39m\u001b[38;5;124mValore atteso: \u001b[39m\u001b[38;5;124m\"\u001b[39m, expected_value)\n\u001b[1;32m     15\u001b[0m \u001b[38;5;66;03m#fare griglia di punti di p per torvare migliore di tutti\u001b[39;00m\n\u001b[1;32m     16\u001b[0m \u001b[38;5;66;03m#oppure fare E[S] quando stessa distribuzione -> alpha_s = alpha_b\u001b[39;00m\n\u001b[1;32m     17\u001b[0m \n\u001b[1;32m     18\u001b[0m \u001b[38;5;66;03m#disegna la funzione di densità per il seller e il buyer\u001b[39;00m\n\u001b[0;32m---> 19\u001b[0m \u001b[43mdraw_pdf_beta\u001b[49m(alpha_S_random, beta_S_random, alpha_B_random, beta_B_random, T)\n",
      "\u001b[0;31mNameError\u001b[0m: name 'draw_pdf_beta' is not defined"
     ]
    }
   ],
   "source": [
    "# Genera parametri casuali\n",
    "alpha_S_random = round(np.random.uniform(low=0, high=10),2)\n",
    "beta_S_random = round(np.random.uniform(low=0, high=10),2)\n",
    "alpha_B_random = round(np.random.uniform(low=0, high=10),2)\n",
    "beta_B_random = round(np.random.uniform(low=0, high=10),2)\n",
    "p_random = np.random.uniform(low=0, high=1)\n",
    "T = 300\n",
    "\n",
    "# Calcola il valore atteso con parametri casuali\n",
    "expected_value = expected_value_beta(alpha_S_random, beta_S_random ,alpha_B_random, beta_B_random, p_random ,T)\n",
    "print(f\"alpha_S: {alpha_S_random,beta_S_random}, alpha_B: {alpha_B_random,beta_B_random}\")\n",
    "print(\"p: \", p_random)\n",
    "print(\"Valore atteso: \", expected_value)\n",
    "\n",
    "#fare griglia di punti di p per torvare migliore di tutti\n",
    "#oppure fare E[S] quando stessa distribuzione -> alpha_s = alpha_b\n",
    "\n",
    "#disegna la funzione di densità per il seller e il buyer\n",
    "draw_pdf_beta(alpha_S_random, beta_S_random, alpha_B_random, beta_B_random, T)"
   ]
  },
  {
   "cell_type": "code",
   "execution_count": null,
   "id": "3e3f35bc",
   "metadata": {},
   "outputs": [],
   "source": [
    "# dict_weight_intervals_seller rappresenta il dizionario contenente peso_intervallo, (inizio-fine) del seller\n",
    "# dict_weight_intervals_buyer rappresenta il dizionario contenente peso_intervallo, (inizio-fine) del buyer\n",
    "\n",
    "def expected_value_discrete_uniform(T, p, S, B, dict_weight_intervals_seller, dict_weight_intervals_buyer):\n",
    "    expected_regret = 0\n",
    "    \n",
    "    # dato un elemento restituiamo la probabilità che questo esca\n",
    "    # ovvero il peso del suo intervallo\n",
    "    \n",
    "    def prob_element_in_interval(dictionary, el):\n",
    "        for key, value in dictionary.items():\n",
    "            # controllo se il valore appartiene all'intervallo corrente\n",
    "            if  el <= value:\n",
    "                return key\n",
    "    \n",
    "    for t in range(T):\n",
    "        expected_regret += ((B[t] - S[t]) * (1 if S[t] <= p <= B[t] else 0)) \\\n",
    "        * prob_element_in_interval(dict_weight_intervals_seller, S[t]) \\\n",
    "        * prob_element_in_interval(dict_weight_intervals_buyer, B[t])\n",
    "                           \n",
    "    expected_regret = expected_regret * T\n",
    "    #restituiamo il valore ottenuto\n",
    "    return expected_regret\n"
   ]
  },
  {
   "cell_type": "code",
   "execution_count": null,
   "id": "74c416ef-c14c-4804-b457-8becf74b2dbf",
   "metadata": {
    "scrolled": true
   },
   "outputs": [],
   "source": [
    "T = 300\n",
    "p = np.random.uniform(low=0, high=1)\n",
    "num_cifre = 3\n",
    "\n",
    "S_D_tmp, S_num_of_els_in_intervals, interval_list_s  = generate_random_weighted_distribution(T, num_cifre)\n",
    "B_D_tmp, B_num_of_els_in_intervals, interval_list_b  = generate_random_weighted_distribution(T, num_cifre)\n",
    "\n",
    "S_D = np.concatenate(S_D_tmp).tolist()\n",
    "B_D = np.concatenate(B_D_tmp).tolist()\n",
    "\n",
    "dict_weight_intervals_seller = dict(zip(S_num_of_els_in_intervals, interval_list_s))\n",
    "dict_weight_intervals_buyer = dict(zip(B_num_of_els_in_intervals, interval_list_b))\n",
    "\n",
    "expected_value = expected_value_discrete_uniform(T, p, S_D, B_D, dict_weight_intervals_seller, dict_weight_intervals_buyer)\n",
    "\n",
    "print(\"Dizionario peso-intervallo del Seller: \",dict_weight_intervals_seller)\n",
    "print(\"Dizionario peso-intervallo del Buyer: \",dict_weight_intervals_buyer)\n",
    "\n",
    "print(\"Valore atteso: \", expected_value)\n",
    "draw_weighted_distribution(S_D,B_D,interval_list_s,interval_list_b)"
   ]
  },
  {
   "cell_type": "markdown",
   "id": "13ff8a82",
   "metadata": {},
   "source": [
    "## Distribuzione  D± $\\epsilon$"
   ]
  },
  {
   "cell_type": "markdown",
   "id": "d629d038",
   "metadata": {},
   "source": [
    "Distribuzione del seller: $f_{S, \\pm\\epsilon} = 2(1\\pm\\epsilon) * \\mathbb I[0, \\frac{1}{4}] + 2(1\\mp\\epsilon) * \\mathbb I[\\frac{1}{2}, \\frac{3}{4}]$\n",
    "\n",
    "L'intervallo su cui la funzione indicatrice verifica la condizione è $0 \\leq s \\leq \\frac{1}{4}$ e $\\frac{1}{2} \\leq s \\leq \\frac{3}{4} $\n",
    "\n",
    "Distribuzione del buyer: $f_{B} = 2 * (I[\\frac{1}{4}, \\frac{1}{2}] \\cup \\mathbb I[\\frac{3}{4}, 1])$\n",
    "\n",
    "L'intervallo su cui la funzione indicatrice verifica la condizione è $ \\frac{1}{4} \\leq b \\leq \\frac{1}{2} $ (cioè per i valori di $ b $ nell'intervallo $ [\\frac{1}{4}, \\frac{1}{2}] $ ).\n",
    "\n",
    "\n",
    "\\begin{align*}\n",
    "\\mathbb E[(b-s)I\\{s\\leq p\\leq b\\}] &=\\int_0^1 \\int_0^1 (b-s) \\mathbb I\\{s\\leq p\\leq b\\} \\cdot f_S(s) \\cdot f_B(b) \\, ds \\, db \\\\\n",
    "&=\\int_p^1 \\int_0^p (b-s)\\cdot f_S(s) \\cdot f_B(b) \\, ds \\, db \\\\\n",
    "&= \\int_p^1 \\int_0^p (b-s) \\cdot \\left( 2(1\\pm\\epsilon) \\cdot I[0, \\frac{1}{4}] + 2(1\\mp\\epsilon) \\cdot I[\\frac{1}{2}, \\frac{3}{4}] \\right) \\cdot 2 \\cdot \\left( I[\\frac{1}{4}, \\frac{1}{2}] + I[\\frac{3}{4}, 1] \\right) \\, ds \\, db \\\\\n",
    "&= \\int_p^1 \\int_0^p (b-s) \\cdot 4 \\cdot \\left( (1\\pm\\epsilon) \\cdot I[0, \\frac{1}{4}] +(1\\mp\\epsilon) \\cdot I[\\frac{1}{2}, \\frac{3}{4}] )\\right)\\cdot \\left( I[\\frac{1}{4}, \\frac{1}{2}] + I[\\frac{3}{4}, 1] \\right) \\, ds \\, db \\\\\n",
    "&= \\int_p^1 \\int_0^p (b-s) \\cdot 4 \\cdot \\left [ \\left ( (1 \\pm \\epsilon) \\cdot I_s[0, \\frac{1}{4}] \\cdot I_b[\\frac{1}{4}, \\frac{1}{2}] + (1 \\pm \\epsilon) \\cdot I_s[0, \\frac{1}{4}] \\cdot I_b[\\frac{3}{4}, 1]  \\right) \\\\ + \\left ( (1\\mp\\epsilon) \\cdot I_s[\\frac{1}{2}, \\frac{3}{4}]\\cdot I_b[\\frac{1}{4}, \\frac{1}{2}] + (1\\mp\\epsilon) \\cdot I_s[\\frac{1}{2}, \\frac{3}{4}]\\cdot I_b[\\frac{3}{4}, 1]  \\right ) \\right] \\, ds \\, db \\\\\n",
    "&= 4 \\cdot\\int_p^1 \\int_0^p (b-s) \\cdot \\left [ \\left ( (1 \\pm \\epsilon) \\cdot I_s[0, \\frac{1}{4}] \\cdot I_b[\\frac{1}{4}, \\frac{1}{2}] + (1 \\pm \\epsilon) \\cdot I_s[0, \\frac{1}{4}] \\cdot I_b[\\frac{3}{4}, 1]  \\right) \\\\ + \\left ( (1\\mp\\epsilon) \\cdot I_s[\\frac{1}{2}, \\frac{3}{4}]\\cdot I_b[\\frac{1}{4}, \\frac{1}{2}] + (1\\mp\\epsilon) \\cdot I_s[\\frac{1}{2}, \\frac{3}{4}]\\cdot I_b[\\frac{3}{4}, 1]  \\right ) \\right] \\, ds \\, db \n",
    "\\end{align*}"
   ]
  },
  {
   "cell_type": "markdown",
   "id": "f15ddc4a-6208-4c4a-bca0-73e635ff0989",
   "metadata": {},
   "source": [
    "epsilon = 1/radice(T)\n",
    "epsilon = 1/t^(1/3)"
   ]
  },
  {
   "cell_type": "code",
   "execution_count": 2,
   "id": "4a354a2d",
   "metadata": {},
   "outputs": [],
   "source": [
    "import numpy as np\n",
    "from scipy.integrate import dblquad\n",
    "from scipy.integrate import nquad\n",
    "\n",
    "def expected_value_epsilon(p, epsilon):\n",
    "    # Funzione di densità del seller\n",
    "    def seller_pdf(s, epsilon):\n",
    "        if 0 <= s <= 1/4:\n",
    "            return  (1 + epsilon)\n",
    "        elif 1/2 <= s <= 3/4:\n",
    "            return  (1 - epsilon)\n",
    "        else:\n",
    "            return 0\n",
    "\n",
    "    # Funzione di densità del buyer\n",
    "    def buyer_pdf(b):\n",
    "        if 1/4 <= b <= 1/2 or 3/4 <= b <= 1:\n",
    "            return 1\n",
    "        else:\n",
    "            return 0\n",
    "\n",
    "    # Funzione integranda\n",
    "    def integrand(b, s, epsilon):\n",
    "        return (b - s) * (seller_pdf(s, epsilon) + buyer_pdf(b))\n",
    "    \n",
    "    # Split the integration into manageable ranges to handle discontinuities\n",
    "    def integrate_over_range():\n",
    "        options = {'epsabs': 1e-8, 'epsrel': 1e-6, 'limit': 1000}\n",
    "        results = []\n",
    "        \n",
    "        # Define ranges that avoid the discontinuities\n",
    "        ranges = [\n",
    "            [[p, 1], [0, 1/4]],\n",
    "            [[p, 1], [1/4, 1/2]],\n",
    "            [[p, 1], [1/2, 3/4]],\n",
    "            [[p, 1], [3/4, p]]\n",
    "        ]\n",
    "        \n",
    "        for r in ranges:\n",
    "            result, error = nquad(integrand, r, args=(epsilon,), opts=[options, options])\n",
    "            results.append(result)\n",
    "        \n",
    "        return sum(results)\n",
    "    \n",
    "    # Calculate and return the result\n",
    "    result = integrate_over_range()\n",
    "    return result * 4\n"
   ]
  },
  {
   "cell_type": "code",
   "execution_count": 7,
   "id": "026b755a-8d7c-4239-89b4-4347db715976",
   "metadata": {},
   "outputs": [
    {
     "name": "stdout",
     "output_type": "stream",
     "text": [
      "Epsilon:  0.2\n",
      "p:  0.5\n",
      "Expected value:  0.6875\n"
     ]
    },
    {
     "data": {
      "image/png": "[encoded data removed]",
      "text/plain": [
       "<Figure size 432x288 with 1 Axes>"
      ]
     },
     "metadata": {
      "needs_background": "light"
     },
     "output_type": "display_data"
    }
   ],
   "source": [
    "epsilon = 0.2 #np.round(np.random.uniform(low=0, high=1),3)\n",
    "p = 0.5# np.random.uniform(low=0, high=1)\n",
    "\n",
    "print(\"Epsilon: \", epsilon)\n",
    "print(\"p: \", p)\n",
    "\n",
    "expected_value = expected_value_epsilon(p, epsilon)\n",
    "print(\"Expected value: \",expected_value)\n",
    "\n",
    "FBP_epsilon_density_functions(epsilon)"
   ]
  },
  {
   "cell_type": "code",
   "execution_count": 8,
   "id": "0fc1c4a5-0308-42a2-b199-1db018ee82fc",
   "metadata": {},
   "outputs": [
    {
     "name": "stdout",
     "output_type": "stream",
     "text": [
      "Epsilon:  0.2\n"
     ]
    },
    {
     "name": "stderr",
     "output_type": "stream",
     "text": [
      "/opt/conda/envs/anaconda-2022.05-py39/lib/python3.9/site-packages/scipy/integrate/quadpack.py:879: IntegrationWarning: The integral is probably divergent, or slowly convergent.\n",
      "  quad_r = quad(f, low, high, args=args, full_output=self.full_output,\n",
      "/opt/conda/envs/anaconda-2022.05-py39/lib/python3.9/site-packages/scipy/integrate/quadpack.py:879: IntegrationWarning: The maximum number of subdivisions (1000) has been achieved.\n",
      "  If increasing the limit yields no improvement it is advised to analyze \n",
      "  the integrand in order to determine the difficulties.  If the position of a \n",
      "  local difficulty can be determined (singularity, discontinuity) one will \n",
      "  probably gain from splitting up the interval and calling the integrator \n",
      "  on the subranges.  Perhaps a special-purpose integrator should be used.\n",
      "  quad_r = quad(f, low, high, args=args, full_output=self.full_output,\n",
      "/opt/conda/envs/anaconda-2022.05-py39/lib/python3.9/site-packages/scipy/integrate/quadpack.py:879: IntegrationWarning: The occurrence of roundoff error is detected, which prevents \n",
      "  the requested tolerance from being achieved.  The error may be \n",
      "  underestimated.\n",
      "  quad_r = quad(f, low, high, args=args, full_output=self.full_output,\n"
     ]
    },
    {
     "data": {
      "image/png": "[encoded data removed]",
      "text/plain": [
       "<Figure size 576x432 with 1 Axes>"
      ]
     },
     "metadata": {
      "needs_background": "light"
     },
     "output_type": "display_data"
    }
   ],
   "source": [
    "import matplotlib.pyplot as plt\n",
    "import numpy as np\n",
    "from scipy.integrate import dblquad\n",
    "\n",
    "# range dei valori\n",
    "p_values = np.linspace(0, 1, 500)\n",
    "\n",
    "epsilon_values = [epsilon, -epsilon]\n",
    "print(\"Epsilon: \",epsilon_values[0])\n",
    "\n",
    "# calcola il valore atteso in base al valore di epsilon \n",
    "expected_values_positive = [expected_value_epsilon(p, epsilon_values[0]) for p in p_values]\n",
    "expected_values_negative = [expected_value_epsilon(p, epsilon_values[1]) for p in p_values]\n",
    "\n",
    "# grafico\n",
    "plt.figure(figsize=(8, 6))\n",
    "\n",
    "plt.xlabel('p')\n",
    "plt.title('Valore Atteso (GFT) considerando $\\epsilon$')\n",
    "\n",
    "plt.plot(p_values, expected_values_positive ,  label='Valore Atteso Seller ($\\epsilon={epsilon}$)', color='red')\n",
    "plt.plot(p_values, expected_values_negative, label='Valore Atteso Buyer ($\\epsilon=-{epsilon}$)', color='blue')\n",
    "\n",
    "\n",
    "plt.legend()\n",
    "\n",
    "plt.grid(True)\n",
    "plt.show()\n"
   ]
  },
  {
   "cell_type": "markdown",
   "id": "daabe1d6",
   "metadata": {},
   "source": [
    "`quad(...)`,`dblquad(...)` e `nlquad(...)`: sono le funzioni principali che calcolano il doppio integrale. Prendono come argomenti variabili le funzioni delle coordinate b e s, i limiti di integrazione per ciascuna variabile e i limiti di integrazione per l'integrazione interna.\n",
    "\n",
    "I valori b e s sono automaticamente creati dalle funzioni:\n",
    "\n",
    "i valori di b sono presi da p a 1.\n",
    "\n",
    "i valori di s sono presi da 0 a p\n"
   ]
  },
  {
   "cell_type": "markdown",
   "id": "1fefd1bb",
   "metadata": {},
   "source": [
    "# Scounting Bandits"
   ]
  },
  {
   "cell_type": "markdown",
   "id": "d1124c1e-50a0-4ef3-9596-5b2e26e3e4cb",
   "metadata": {},
   "source": [
    "Ricordiamo che nel modello di feedback realistico, le uniche informazioni raccolte alla fine di ogni round t sono: $\\mathbb {I}\\lbrace{S_t ≤ P_t}\\rbrace$ e  $\\mathbb I\\lbrace{P_t ≤ B_t}\\rbrace$."
   ]
  },
  {
   "cell_type": "markdown",
   "id": "20807fcc",
   "metadata": {},
   "source": [
    "## Distribuzione Uniforme\n",
    "\n",
    "$$\n",
    "\\begin{align*}\n",
    "\\mathbb E[GFT(q_k, S, B)] \\sim &P(S \\leq q_k)\\cdot \\hat{F}_k + P(q_k \\leq B) \\cdot \\hat{G}_k \\\\\n",
    "&= \\mathbb {E}[\\mathbb {I} \\lbrace S \\leq q_k \\rbrace \\cdot \\hat{F}_k + \\mathbb {I} \\lbrace q_k \\leq B \\rbrace \\cdot \\hat{G}_k | H]\\\\\n",
    "&= \\int_0^1 \\lbrace \\mathbb {I} \\lbrace S \\leq q_k \\rbrace \\cdot \\hat{F}_k + \\mathbb {I} \\lbrace q_k \\leq B \\rbrace \\cdot \\hat{G}_k \\rbrace \\cdot dH \\\\\n",
    "\\end{align*}\n",
    "$$\n",
    "\n",
    "Dove H rappresenta le stime di $\\hat{F}_j, \\hat{G}_j$ per ogni j alla fine della fase di esplorazione globale.\n",
    "\n",
    "Possiamo quindi scrivere l'integrale come somma di integrali:\n",
    "\n",
    "$$\n",
    "\\begin{align*}\n",
    "&= \\int_0^1 \\lbrace \\mathbb {I} \\lbrace S \\leq q_k \\rbrace \\cdot \\hat{F}_k + \\mathbb {I} \\lbrace q_k \\leq B \\rbrace \\cdot \\hat{G}_k \\rbrace \\cdot dH \\\\\n",
    "&= \\int_0^1 \\lbrace \\mathbb {I} \\lbrace S \\leq q_k \\rbrace \\cdot \\hat{F}_k \\rbrace \\cdot dH  + \\int_0^1 \\lbrace \\mathbb {I} \\lbrace q_k \\leq B \\rbrace \\cdot \\hat{G}_k \\rbrace \\cdot dH \n",
    "\\end{align*}\n",
    "$$\n",
    "\n",
    "Sostituiamo i valori $\\hat{F}_k$ e di $\\hat{G}_k$ con gli integrali $\\int_0^1 f(s)d_s$ e $\\int_0^1 f(b)d_b$ ottenuti dall'equazione:\n",
    "\n",
    "$\n",
    "[\\mathbb{E}\\left[GFT(p, S, B)\\right] = P[S \\leq p]\\cdot P[p \\leq B] + P[p \\leq B]\\cdot P[S \\leq p]\n",
    "$\n",
    "\n",
    "Sapendo che S e B sono distribuzioni uniformi in [0,1] e indipendenti possiamo scrivere che:\n",
    "\n",
    "\n",
    "$$\n",
    "\\begin{align*}\n",
    "&= \\int_0^1 \\lbrace \\mathbb {I} \\lbrace S \\leq q_k \\rbrace \\cdot \\hat{F}_k \\rbrace \\cdot dH  + \\int_0^1 \\lbrace \\mathbb {I} \\lbrace q_k \\leq B \\rbrace \\cdot \\hat{G}_k \\rbrace \\cdot dH  \\\\\n",
    "&= \\int_0^1 \\lbrace \\mathbb {I} \\lbrace S \\leq q_k \\rbrace \\cdot \\int_0^1 f(s) d_s \\rbrace \\cdot dH  + \\int_0^1 \\lbrace \\mathbb {I} \\lbrace q_k \\leq B \\rbrace \\cdot \\int_0^1 f(b) d_b \\rbrace \\cdot dH \n",
    "\\end{align*}\n",
    "$$\n",
    "\n",
    "Possiamo quindi scrivere che le loro funzioni di densità sono:\n",
    "\n",
    "* f(s) = 1 per $s \\in [0,1]$\n",
    "* f(g) = 1 per $s \\in [0,1]$\n",
    "\n",
    "e quindi:\n",
    "\n",
    "* $\\hat{F}_k = \\int_0^{1}f(s)d_s = \\int_0^{q_k}f(s)d_s =  \\int_0^{q_k} 1 = q_k$\n",
    "* $\\hat{G}_k = \\int_{0}^{1}f(g)d_g = \\int_{q_k}^{1}f(g)d_g =  \\int_{q_k}^1 1 = 1-q_k$\n",
    "\n",
    "Sostituiamo ottenendo che:\n",
    "\n",
    "\n",
    "$$\n",
    "\\begin{align*}\n",
    "&= \\int_0^1 \\lbrace \\mathbb {I} \\lbrace S \\leq q_k \\rbrace \\cdot \\int_0^1 f(s) d_s \\rbrace \\cdot dH  + \\int_0^1 \\lbrace \\mathbb {I} \\lbrace q_k \\leq B \\rbrace \\cdot \\int_0^1 f(b) d_b \\rbrace \\cdot dH \\\\\n",
    "&= \\int_0^1 \\lbrace \\mathbb {I} \\lbrace S \\leq q_k \\rbrace \\cdot q_k \\rbrace \\cdot dH + \n",
    "\\int_0^1 \\lbrace \\mathbb {I} \\lbrace q_k \\leq B \\rbrace \\cdot (1-q_k) \\rbrace \\cdot dH \\\\\n",
    "\\end{align*}\n",
    "$$\n",
    "\n",
    "A questo punto sapendo che S e B sono uniformemente distribuiti su [0,1] possiamo scrivere che:\n",
    "\n",
    "* $P(S \\leq q_k) = q_k$\n",
    "* $P(q_k \\leq B) = 1 - q_k$\n",
    "\n",
    "Quindi sostituendo all'integrale otteniamo che:\n",
    "\n",
    "$$\n",
    "\\begin{align*}\n",
    "&= \\int_0^1 \\lbrace \\mathbb {I} \\lbrace S \\leq q_k \\rbrace \\cdot q_k \\rbrace \\cdot dH + \n",
    "\\int_0^1 \\lbrace \\mathbb {I} \\lbrace q_k \\leq B \\rbrace \\cdot (1-q_k) \\rbrace \\cdot dH \\\\\n",
    "&= q_k \\cdot q_k + (1-q_k) \\cdot (1-q_k) \\\\\n",
    "&= q_k^2 + (1-q_k)^2 \\\\\n",
    "\\end{align*}\n",
    "$$"
   ]
  },
  {
   "cell_type": "code",
   "execution_count": 9,
   "id": "ebd7005a-cbc2-4e6f-85a9-23a81e477754",
   "metadata": {},
   "outputs": [
    {
     "data": {
      "application/vnd.jupyter.widget-view+json": {
       "model_id": "cc05e50989ac497e9b682f4ffdb83847",
       "version_major": 2,
       "version_minor": 0
      },
      "text/plain": [
       "interactive(children=(FloatSlider(value=0.5, description='q_k', max=1.0, step=0.01), Output()), _dom_classes=(…"
      ]
     },
     "metadata": {},
     "output_type": "display_data"
    },
    {
     "data": {
      "text/plain": [
       "<function __main__.plot_equation(q_k)>"
      ]
     },
     "execution_count": 9,
     "metadata": {},
     "output_type": "execute_result"
    }
   ],
   "source": [
    "import numpy as np\n",
    "import matplotlib.pyplot as plt\n",
    "from ipywidgets import interact, FloatSlider\n",
    "\n",
    "def equation(q_k):\n",
    "    return q_k**2 + (1-q_k)**2\n",
    "\n",
    "def plot_equation(q_k):\n",
    "    y = equation(q_k)\n",
    "    q_k_vals = np.linspace(0, 1, 500)\n",
    "    y_vals = equation(q_k_vals)\n",
    "    \n",
    "    plt.figure(figsize=(10, 6))\n",
    "    plt.plot(q_k_vals, y_vals, label=r'$y = q_k^2 + (1-q_k)^2$')\n",
    "    plt.scatter([q_k], [y], color='red', zorder=5)\n",
    "    plt.title(r'Grafico di $y = q_k^2 + (1-q_k)^2$')\n",
    "    plt.xlabel('$q_k$')\n",
    "    plt.ylabel('y')\n",
    "    plt.legend()\n",
    "    plt.grid(True)\n",
    "    plt.ylim(0, 1)\n",
    "    plt.show()\n",
    "\n",
    "# Widget interattivo per modificare il valore di q_k\n",
    "interact(plot_equation, q_k=FloatSlider(min=0, max=1, step=0.01, value=0.5))\n"
   ]
  },
  {
   "cell_type": "markdown",
   "id": "b631e707",
   "metadata": {},
   "source": [
    "### Distribuzione Beta"
   ]
  },
  {
   "cell_type": "markdown",
   "id": "6e5c4819-0441-4d4d-bee4-088ecb2536c2",
   "metadata": {},
   "source": [
    "$$\n",
    "\\begin{align*}\n",
    "\\mathbb E[GFT(q_k, S, B)] \\sim &P(S \\leq q_k)\\cdot \\hat{F}_k + P(q_k \\leq B) \\cdot \\hat{G}_k \\\\\n",
    "&= \\mathbb {E}[\\mathbb {I} \\lbrace S \\leq q_k \\rbrace \\cdot \\hat{F}_k + \\mathbb {I} \\lbrace q_k \\leq B \\rbrace \\cdot \\hat{G}_k | H]\\\\\n",
    "&= \\int_0^1 \\lbrace \\mathbb {I} \\lbrace S \\leq q_k \\rbrace \\cdot \\hat{F}_k + \\mathbb {I} \\lbrace q_k \\leq B \\rbrace \\cdot \\hat{G}_k \\rbrace \\cdot dH \\\\\n",
    "\\end{align*}\n",
    "$$\n",
    "\n",
    "Dove H rappresenta le stime di $\\hat{F}_j, \\hat{G}_j$ per ogni j alla fine della fase di esplorazione globale.\n",
    "\n",
    "Possiamo quindi scrivere l'integrale come somma di integrali:\n",
    "\n",
    "$$\n",
    "\\begin{align*}\n",
    "&= \\int_0^1 \\lbrace \\mathbb {I} \\lbrace S \\leq q_k \\rbrace \\cdot \\hat{F}_k + \\mathbb {I} \\lbrace q_k \\leq B \\rbrace \\cdot \\hat{G}_k \\rbrace \\cdot dH \\\\\n",
    "&= \\int_0^1 \\lbrace \\mathbb {I} \\lbrace S \\leq q_k \\rbrace \\cdot \\hat{F}_k \\rbrace \\cdot dH  + \\int_0^1 \\lbrace \\mathbb {I} \\lbrace q_k \\leq B \\rbrace \\cdot \\hat{G}_k \\rbrace \\cdot dH \n",
    "\\end{align*}\n",
    "$$\n",
    "\n",
    "Sostituiamo i valori $\\hat{F}_k$ e di $\\hat{G}_k$ con gli integrali $\\int_0^1 f(s)d_s$ e $\\int_0^1 f(b)d_b$ ottenuti dall'equazione:\n",
    "\n",
    "$\n",
    "[\\mathbb{E}\\left[GFT(p, S, B)\\right] = P[S \\leq p]\\cdot P[p \\leq B] + P[p \\leq B]\\cdot P[S \\leq p]\n",
    "$\n",
    "\n",
    "\n",
    "Sapendo che S e B sono distribuzioni beta in [0,1] e indipendenti possiamo scrivere che:\n",
    "\n",
    "\n",
    "$$\n",
    "\\begin{align*}\n",
    "&= \\int_0^1 \\lbrace \\mathbb {I} \\lbrace S \\leq q_k \\rbrace \\cdot \\hat{F}_k \\rbrace \\cdot dH  + \\int_0^1 \\lbrace \\mathbb {I} \\lbrace q_k \\leq B \\rbrace \\cdot \\hat{G}_k \\rbrace \\cdot dH  \\\\\n",
    "&= \\int_0^1 \\lbrace \\mathbb {I} \\lbrace S \\leq q_k \\rbrace \\cdot \\int_0^1 f(s) d_s \\rbrace \\cdot dH  + \\int_0^1 \\lbrace \\mathbb {I} \\lbrace q_k \\leq B \\rbrace \\cdot \\int_0^1 f(b) d_b \\rbrace \\cdot dH \n",
    "\\end{align*}\n",
    "$$\n",
    "\n",
    "Possiamo quindi scrivere che le funzioni di densità sono:\n",
    "\n",
    "$$[f(x; \\alpha, \\beta) = \\frac{x^{\\alpha-1} \\cdot (1 - x)^{\\beta-1}}{B(\\alpha, \\beta)}]$$\n",
    "\n",
    "Dove ${B(\\alpha, \\beta)}$ è la funzione beta (di Eulero), utilizzata come fattore di normalizzazione per rendere l'integrale della funzione di densità pari a 1, pari a:\n",
    "\n",
    "$$\n",
    "B(\\alpha, \\beta) = \\int_{0}^{1} t^{\\alpha - 1} (1 - t)^{\\beta - 1} \\, dt\n",
    "$$\n",
    "\n",
    "Se $S$ e $B$ sono distribuite secondo una distribuzione beta con parametri $\\alpha_S$ e $\\beta_S$ e $\\alpha_B$ e $\\beta_B$ rispettivamente, possiamo scrivere la funzione di densità di $S$ come $f_S(s) = \\frac{s^{\\alpha_S - 1} \\cdot (1 - s)^{\\beta_S - 1}}{B(\\alpha_S, \\beta_S)}$ e la funzione di densità di $B$ come $f_B(b) = \\frac{b^{\\alpha_B - 1} \\cdot (1 - b)^{\\beta_B - 1}}{B(\\alpha_B, \\beta_B)}$.\n",
    "\n",
    "e quindi:\n",
    "\n",
    "* $\\hat{F}_k = \\int_0^{1} f(s) \\,ds = \\int_0^{q_k} f(s) \\,ds = \\int_0^{q_k} {\\frac{s^{\\alpha_S - 1} \\cdot (1 - s)^{\\beta_S - 1}}{B(\\alpha_S, \\beta_S)}}$\n",
    "* $\\hat{G}_k = \\int_0^{1} f(g) \\,dg = \\int_{q_k}^{1} f(g) \\,dg = \\int_{q_k}^1 \\frac{b^{\\alpha_B - 1} \\cdot (1 - b)^{\\beta_B - 1}}{B(\\alpha_B, \\beta_B)}$\n",
    "\n",
    "\n",
    "Sostituiamo ottenendo che:\n",
    "\n",
    "\n",
    "$$\n",
    "\\begin{align*}\n",
    "&= \\int_0^1 \\lbrace \\mathbb {I} \\lbrace S \\leq q_k \\rbrace \\cdot \\int_0^1 f(s) d_s \\rbrace \\cdot dH  + \\int_0^1 \\lbrace \\mathbb {I} \\lbrace q_k \\leq B \\rbrace \\cdot \\int_0^1 f(b) d_b \\rbrace \\cdot dH \\\\\n",
    "&= \\int_0^1 \\lbrace \\mathbb {I} \\lbrace S \\leq q_k \\rbrace \\cdot \\frac{s^{\\alpha_S - 1} \\cdot (1 - s)^{\\beta_S - 1}}{B(\\alpha_S, \\beta_S)} \\rbrace \\cdot dH + \n",
    "\\int_0^1 \\lbrace \\mathbb {I} \\lbrace q_k \\leq B \\rbrace \\cdot \\frac{b^{\\alpha_B - 1} \\cdot (1 - b)^{\\beta_B - 1}}{B(\\alpha_B, \\beta_B)} \\rbrace \\cdot dH \\\\\n",
    "\\end{align*}\n",
    "$$\n"
   ]
  },
  {
   "cell_type": "code",
   "execution_count": 10,
   "id": "d72ac5a8-555d-4066-b845-a874fd4ded39",
   "metadata": {},
   "outputs": [],
   "source": [
    "import numpy as np\n",
    "from scipy.stats import beta\n",
    "from scipy.integrate import quad\n",
    "\n",
    "  #Calcola il valore atteso di una funzione integranda basata su distribuzioni beta.\n",
    "\n",
    "  #La funzione integranda viene calcolata in base ai parametri delle distribuzioni beta \n",
    "  #del seller (S) e del buyer (B).\n",
    "\n",
    "  #Args:\n",
    "   #   alpha_S: parametro alpha della distribuzione beta di vendita.\n",
    "    #  beta_S: parametro beta della distribuzione beta di vendita.\n",
    "     # alpha_B: parametro alpha della distribuzione beta di acquisto.\n",
    "      # beta_B: parametro beta della distribuzione beta di acquisto.\n",
    "      # p: probabilità di acquisto.\n",
    "\n",
    "  #Returns:\n",
    "    #Valore atteso\n",
    "\n",
    "def expected_value_beta(alpha_S, beta_S, alpha_B, beta_B, q_k):\n",
    "  \n",
    "  # Funzione integranda di S\n",
    "\n",
    "    #Args:\n",
    "        #s: valore di vendita casuale.\n",
    "        #q_k: valore del prezzo q_k\n",
    "        #alpha_S: parametro alpha della distribuzione beta di vendita.\n",
    "        #beta_S: parametro beta della distribuzione beta di vendita.\n",
    "\n",
    "    #Returns:\n",
    "      #valore dell'integrale in [0,1]  \n",
    "\n",
    "    def integrand_s(s, q_k, alpha_S, beta_S):\n",
    "        return beta.pdf(s, alpha_S, beta_S) if s <= q_k else 0 #funzione indicatrice\n",
    "\n",
    "\n",
    "    #Args:\n",
    "        #s: valore di vendita casuale.\n",
    "        #q_k: valore del prezzo q_k\n",
    "        #alpha_B: parametro alpha della distribuzione beta di acquisto.\n",
    "        #beta_B: parametro beta della distribuzione beta di acquisto.\n",
    "    #Returns:\n",
    "      #valore dell'integrale in [0,1]  \n",
    "\n",
    "    def integrand_b(b, q_k, alpha_B, beta_B):\n",
    "        return beta.pdf(b, alpha_B, beta_B) if q_k <= b else 0 #funzione indicatrice\n",
    "\n",
    "\n",
    "  # Calcola il valore atteso\n",
    "\n",
    "        #Utilizza la funzione dblquad per calcolare la doppia integrazione della funzione integranda.\n",
    "\n",
    "    #Args:\n",
    "       # q_k: probabilità di acquisto.\n",
    "        # alpha_S: parametro alpha della distribuzione beta di vendita.\n",
    "        # beta_S: parametro beta della distribuzione beta di vendita.\n",
    "        # alpha_B: parametro alpha della distribuzione beta di acquisto.\n",
    "        # beta_B: parametro beta della distribuzione beta di acquisto.\n",
    "\n",
    "    # Returns:\n",
    "        #Valore atteso.\n",
    "    def calculate_expected_value(q_k,alpha_S, beta_S, alpha_B, beta_B):\n",
    "   \n",
    "    # Limiti di integrazione\n",
    "        lower_limit = 0  # Limite inferiore dell'integrale interno\n",
    "        upper_limit = 1  # Limite superiore dell'integrale interno\n",
    "\n",
    "    # Argomenti per la funzione integranda di S\n",
    "        args_integrand_s = (q_k,alpha_S, beta_S)\n",
    "\n",
    "    # Argomenti per la funzione integranda di B\n",
    "        args_integrand_b = (q_k,alpha_B, beta_B)\n",
    "\n",
    "    # Calcola l'integrale di S\n",
    "        result_s, _ = quad(integrand_s, lower_limit, upper_limit, args=args_integrand_s)\n",
    "\n",
    "    # Calcola l'integrale di S\n",
    "        result_b, _ = quad(integrand_b, lower_limit, upper_limit, args=args_integrand_b)\n",
    "        \n",
    "    # Ottieni il valore atteso\n",
    "        expected_value_s = result_s\n",
    "        expected_value_b = result_b\n",
    "\n",
    "    # Restituisci il valore atteso \n",
    "        return expected_value_s + expected_value_b\n",
    "\n",
    "  # Calcola il valore atteso\n",
    "    expected_value = calculate_expected_value(q_k, alpha_S, beta_S, alpha_B, beta_B)\n",
    "\n",
    "  # Restituisci il valore atteso già moltiplicato per T\n",
    "    return expected_value"
   ]
  },
  {
   "cell_type": "code",
   "execution_count": 11,
   "id": "c18942cf-abb8-42f4-aaf9-a74638f957fd",
   "metadata": {},
   "outputs": [
    {
     "name": "stdout",
     "output_type": "stream",
     "text": [
      "alpha_S: (4.8, 8.44), alpha_B: (2.99, 4.26)\n",
      "q_k:  0.5\n",
      "Valore atteso:  1.1589032993864965\n"
     ]
    },
    {
     "data": {
      "image/png": "[encoded data removed]",
      "text/plain": [
       "<Figure size 1080x360 with 2 Axes>"
      ]
     },
     "metadata": {
      "needs_background": "light"
     },
     "output_type": "display_data"
    }
   ],
   "source": [
    "# Genera parametri casuali\n",
    "alpha_S_random = round(np.random.uniform(low=0, high=10),2)\n",
    "beta_S_random = round(np.random.uniform(low=0, high=10),2)\n",
    "alpha_B_random = round(np.random.uniform(low=0, high=10),2)\n",
    "beta_B_random = round(np.random.uniform(low=0, high=10),2)\n",
    "T = 2000\n",
    "q_k = 0.5\n",
    "\n",
    "# Calcola il valore atteso con parametri casuali\n",
    "expected_value = expected_value_beta(alpha_S_random, beta_S_random ,alpha_B_random, beta_B_random,q_k)\n",
    "print(f\"alpha_S: {alpha_S_random,beta_S_random}, alpha_B: {alpha_B_random,beta_B_random}\")\n",
    "print(\"q_k: \", q_k)\n",
    "print(\"Valore atteso: \", expected_value)\n",
    "\n",
    "#disegna la funzione di densità per il seller e il buyer\n",
    "draw_pdf_beta(alpha_S_random, beta_S_random, alpha_B_random, beta_B_random, T)"
   ]
  },
  {
   "cell_type": "markdown",
   "id": "b216d3b6-34d5-4ce8-a1b9-62dd6ca7d6a7",
   "metadata": {},
   "source": [
    "## Distribuzione  D± $\\epsilon$"
   ]
  },
  {
   "cell_type": "markdown",
   "id": "c4f75bd2-c8f8-4e10-8ae7-8acc8f7a32d5",
   "metadata": {},
   "source": [
    "Creiamo una famiglia di distribuzioni $D_{\\pm\\varepsilon}$ sia per il buyer che per il seller parametrizzata su $\\varepsilon \\in$[0,1].\n",
    "\n",
    "Definiamo per il seller una funzione di densità dipendente dal valore di epsilon tale che:\n",
    "\n",
    "$\n",
    "f_{S,\\pm\\varepsilon} := \\frac{1}{4\\theta} \\cdot \\left( (1 \\pm \\varepsilon)\\cdot I_{[0,\\theta]} + (1 \\mp \\varepsilon)I_{[\\frac{1}{6},\\frac{1}{6}+\\theta]} + I_{[\\frac{1}{4},\\frac{1}{4}+\\theta]} + I_{[\\frac{2}{3},\\frac{2}{3}+\\theta]} \\right)\n",
    "$\n",
    "\n",
    "Dove $\\vartheta = \\frac{1}{48}$ è una costante di normalizazzione\n",
    "\n",
    "Definiamo per il buyer una funzione di densità dipendente tale che:\n",
    "\n",
    "$\n",
    "f_{B} := \\frac{1}{4\\theta} \\left( I_{[\\frac{1}{3}-\\theta],\\frac{1}{3}} + I_{[\\frac{3}{4}-\\theta],\\frac{3}{4}} + I_{[\\frac{5}{6}-\\theta],\\frac{5}{6}} + I_{[1-\\theta],1} \\right)\n",
    "$"
   ]
  },
  {
   "cell_type": "code",
   "execution_count": 12,
   "id": "70b1f8cc-db7c-4831-87ec-76d1f358a6c6",
   "metadata": {},
   "outputs": [],
   "source": [
    "import numpy as np\n",
    "import matplotlib.pyplot as plt\n",
    "\n",
    "# Funzione densità del seller dipendente da epsilon\n",
    "def seller_pdf(s, epsilon, theta):\n",
    "    value = np.zeros_like(s, dtype=float)\n",
    "    value += np.where((1/4 <= s) & (s <= (1/4 + theta)), 1, 0)\n",
    "    value += np.where((2/3 <= s) & (s <= (2/3 + theta)), 1, 0)\n",
    "    value += np.where((0 <= s) & (s <= theta), 1 + epsilon, 0)\n",
    "    value += np.where((1/6 <= s) & (s <= (1/6 + theta)), 1 - epsilon, 0)\n",
    "    \n",
    "    return value * (1 / (4 * theta))\n",
    "\n",
    "# Funzione densità del buyer indipendente da epsilon\n",
    "def buyer_pdf(b, theta):\n",
    "    value = np.zeros_like(b, dtype=float)\n",
    "    value += np.where((1/3 - theta <= b) & (b <= 1/3), 1, 0)\n",
    "    value += np.where((3/4 - theta <= b) & (b <= 3/4), 1, 0)\n",
    "    value += np.where((5/6 - theta <= b) & (b <= 5/6), 1, 0)\n",
    "    value += np.where((1 - theta <= b) & (b <= 1), 1, 0)\n",
    "    \n",
    "    return value * (1 / (4 * theta))\n"
   ]
  },
  {
   "cell_type": "code",
   "execution_count": 13,
   "id": "2a639a9d-3ea4-41a4-a9d2-f115232ac3ea",
   "metadata": {},
   "outputs": [
    {
     "data": {
      "image/png": "[encoded data removed]",
      "text/plain": [
       "<Figure size 720x432 with 1 Axes>"
      ]
     },
     "metadata": {
      "needs_background": "light"
     },
     "output_type": "display_data"
    }
   ],
   "source": [
    "# Crea valori x\n",
    "x = np.linspace(0, 1, 1000)\n",
    "theta = 1/48\n",
    "\n",
    "# Calcola valori\n",
    "y_seller_pos = seller_pdf(x, epsilon, theta)\n",
    "y_seller_neg = seller_pdf(x, -epsilon, theta)\n",
    "y_buyer = buyer_pdf(x, theta)\n",
    "\n",
    "# Disegniamo Grafico\n",
    "plt.figure(figsize=(10, 6))\n",
    "\n",
    "plt.plot(x, y_seller_pos, 'r', label='$f_{S,+\\\\varepsilon}$')\n",
    "plt.plot(x, y_seller_neg, 'b', label='$f_{S,-\\\\varepsilon}$')\n",
    "plt.plot(x, y_buyer, 'g', label='$f_{B}$')\n",
    "\n",
    "# Aggiungiamo Colore per distinguere grafici\n",
    "plt.fill_between(x, 0, y_seller_pos, where=(y_seller_pos > 0), color='red', alpha=0.3, interpolate=True)\n",
    "plt.fill_between(x, 0, y_seller_neg, where=(y_seller_neg > 0), color='blue', alpha=0.3, interpolate=True)\n",
    "plt.fill_between(x, 0, y_buyer, where=(y_buyer > 0), color='green', alpha=0.3, interpolate=True)\n",
    "\n",
    "plt.xlabel('x')\n",
    "plt.ylabel('PDF')\n",
    "plt.title('Funzione Densità $f_{S,\\\\pm\\\\varepsilon}$ e $f_{B}$')\n",
    "plt.legend()\n",
    "\n",
    "plt.show()\n"
   ]
  },
  {
   "cell_type": "markdown",
   "id": "6b47f2d2",
   "metadata": {},
   "source": [
    "# Scouting Blindits"
   ]
  },
  {
   "cell_type": "markdown",
   "id": "3bfb3456",
   "metadata": {},
   "source": [
    "### DISTRIBUZIONE UNIFORME"
   ]
  },
  {
   "cell_type": "markdown",
   "id": "87236455-5fc6-42cc-b444-e3465ee6dfa8",
   "metadata": {},
   "source": [
    "Sia la funzione $GFT(p, p', S, B)$ definita come:\n",
    "\n",
    "$$\n",
    "GFT(p, p', S, B) = (b - p' + p - s) * \\mathbb {I}\\lbrace{b ≤ p' ≤ p ≤ s}\\rbrace\n",
    "$$\n",
    "\n",
    "Possiamo scrivere il valore atteso di $E[GFT(p, p', S, B)]$ considerando S e B come due distribuzioni uniformi come:\n",
    "\n",
    "$$\n",
    "\\int_{0}^{p'} \\left( \\int_{p}^{1} (b - p' + p - s) \\cdot f_B(b) \\, db \\right) \\,\\cdot f_S(s)  \\cdot ds\n",
    "$$\n",
    "\n",
    "**1. Calcolo dell'integrale interno rispetto a \\(b\\):**\n",
    "\n",
    "$$\n",
    "\\int_{p}^{1} (b - p' + p - s) \\cdot f_S(s)  \\cdot f_B(b) \\cdot db\n",
    "$$\n",
    "\n",
    "Integrando rispetto a \\(b\\), otteniamo:\n",
    "\n",
    "$$\n",
    "\\left[ \\frac{b^2}{2} - p'b + pb - sb \\right]_{p}^{1} \\cdot f_S(s)  = \\left( \\frac{1}{2} - p' + p - s - \\frac{p^2}{2} + p'p - ps \\right) \\cdot f_S(s) \n",
    "$$\n",
    "\n",
    "\n",
    "**2. Calcolo dell'integrale esterno rispetto a \\(s\\):**\n",
    "\n",
    "Ora possiamo calcolare l'integrale esterno rispetto a \\(s\\):\n",
    "\n",
    "$$\n",
    "\\int_{0}^{p'} \\left( \\frac{1}{2} - p' + p - s - \\frac{p^2}{2} + p'p - ps \\right) \\cdot  \\, ds\n",
    "$$\n",
    "\n",
    "Integrando rispetto a \\(s\\), otteniamo:\n",
    "\n",
    "\\begin{align*}\n",
    "\\left[ \\frac{1}{2}s - p's + ps - \\frac{s^2}{2} - \\frac{p^2s}{2} + p'ps - \\frac{p}{2}s^2 \\right]_{0}^{p'} =\\\\\n",
    "= \\frac{1}{2}p' - p'^2 + pp' - \\frac{p'^2}{2} - \\frac{p^2p'}{2} + p'^2p - \\frac{p}{2}p'^2 = \\\\\n",
    "= \\frac{1}{2}p' - \\frac{3}{2}p'^2 + p'p - \\frac{p'p^2}{2} +\\frac{p'^2 p}{2} = \\\\\n",
    "= \\frac{1}{2}p' - \\frac{3}{2}p'^2 + p (p' - \\frac{p'p}{2} + \\frac{p'^2}{2}) \\\\\n",
    "\\end{align*}\n",
    "\n",
    "Quindi, l'integrale dato:\n",
    "\n",
    "$$\n",
    "\\int_{0}^{p'} \\left( \\int_{p}^{1} (b - p' + p - s) \\cdot f_B(b) \\, \\cdot db \\right) \\, \\cdot f_S(s) \\cdot ds\n",
    "$$\n",
    "\n",
    "si semplifica a:\n",
    "\n",
    "$$\n",
    "\\frac{1}{2}p' - \\frac{3}{2}p'^2 + p (p' - \\frac{p'p}{2} + \\frac{p'^2}{2})\n",
    "$$\n"
   ]
  },
  {
   "cell_type": "code",
   "execution_count": 14,
   "id": "db6dfecc-a6a4-44c9-8a59-77729ac0751b",
   "metadata": {},
   "outputs": [
    {
     "data": {
      "image/png": "[encoded data removed]",
      "text/plain": [
       "<Figure size 576x432 with 1 Axes>"
      ]
     },
     "metadata": {
      "needs_background": "light"
     },
     "output_type": "display_data"
    }
   ],
   "source": [
    "import numpy as np\n",
    "import matplotlib.pyplot as plt\n",
    "from ipywidgets import interact, FloatSlider\n",
    "\n",
    "# Definizione della funzione\n",
    "def f(p, p_prime):\n",
    "    return 0.5 * p_prime - 1.5 * p_prime**2 + p * (p_prime - 0.5 * p_prime * p + 0.5 * p_prime**2)\n",
    "\n",
    "# Funzione per tracciare il grafico\n",
    "    # Generazione di valori di p' da 0 a 1\n",
    "p_prime_values = np.linspace(0, 1, 100)\n",
    "    \n",
    "    # Calcolo dei valori della funzione per il valore fisso di p\n",
    "f_values = f(p, p_prime_values)\n",
    "\n",
    "#def plot_function(p):\n",
    "    # Tracciamento del grafico\n",
    "plt.figure(figsize=(8, 6))\n",
    "plt.plot(p_prime_values, f_values, label=f'p = {p}')\n",
    "plt.xlabel('$p_{prime}$')\n",
    "plt.ylabel(\"$f(p_{prime})$\")\n",
    "plt.title('Grafico della funzione con p =' + str(p))\n",
    "plt.legend()\n",
    "plt.grid(True)\n",
    "plt.show()\n",
    "\n",
    "# Creazione del widget interattivo\n",
    "#interact(plot_function, p=FloatSlider(value=0.5, min=0, max=1, step=0.01, description='p:'))\n",
    "#plot_function(0.5)"
   ]
  },
  {
   "cell_type": "markdown",
   "id": "df7d1fa9",
   "metadata": {},
   "source": [
    "Ora, se supponiamo che $$p = p'$$\n",
    "\n",
    "possiamo scrivere:\n",
    "\n",
    "$$\n",
    "\\frac{1}{2}p - \\frac{3}{2}p^2 + p^2  = \\frac{p}{2} - \\frac{p^2}{2}\n",
    "$$\n",
    "\n",
    "Ottenendo lo stesso risultato nel caso di FBP con S e B distribuzioni uniformi i.i.v."
   ]
  },
  {
   "cell_type": "code",
   "execution_count": 15,
   "id": "0c10599f",
   "metadata": {},
   "outputs": [
    {
     "data": {
      "image/png": "[encoded data removed]",
      "text/plain": [
       "<Figure size 576x432 with 1 Axes>"
      ]
     },
     "metadata": {
      "needs_background": "light"
     },
     "output_type": "display_data"
    }
   ],
   "source": [
    "import numpy as np\n",
    "import matplotlib.pyplot as plt\n",
    "\n",
    "# Definizione della funzione\n",
    "def f(p):\n",
    "    return 0.5 * p - 0.5 * p**2\n",
    "\n",
    "# Generazione di valori di p da 0 a 1\n",
    "p_values = np.linspace(0, 1, 100)\n",
    "\n",
    "# Calcolo dei valori della funzione per il valore fisso di p\n",
    "f_values = f(p_values)\n",
    "\n",
    "# Tracciamento del grafico\n",
    "plt.figure(figsize=(8, 6))\n",
    "#plt.plot(p_prime_values, f_values, label=f'p = {p_fixed}')\n",
    "plt.plot(p_prime_values, f_values)\n",
    "plt.xlabel(\"p\")\n",
    "plt.ylabel(\"f(p)\")\n",
    "plt.title(\"Grafico della funzione dove p = p'\")\n",
    "#plt.legend()\n",
    "plt.grid(True)\n",
    "plt.show()\n"
   ]
  },
  {
   "cell_type": "markdown",
   "id": "400f70d5",
   "metadata": {},
   "source": [
    "Altrimenti, se $$p \\ne p'$$\n",
    "\n",
    "Allora:\n",
    "\n",
    "La funzione data è una funzione quadratica in $p'$ (grado: 2), quindi per trovare il massimo possiamo calcolare la derivata rispetto a $p'$ e poi risolvere per il valore di $p'$ in cui la derivata si annulla.\n",
    "\n",
    "La funzione data è:\n",
    "\n",
    "$$\n",
    "f(p', p) = \\frac{1}{2}p' - \\frac{3}{2}p'^2 + p \\left( p' - \\frac{p'p}{2} + \\frac{p'^2}{2} \\right)\n",
    "$$\n",
    "\n",
    "\n",
    "**Calcoliamo la derivata rispetto a $p'$:**\n",
    "\n",
    "$$\n",
    "\\frac{df}{dp'} = \\frac{1}{2} - 3p' + p(-\\frac{p}{2} + p' + 1)\n",
    "$$\n",
    "\n",
    "Uguagliamo la derivata a zero per trovare il massimo:\n",
    "\n",
    "$$\n",
    "\\frac{1}{2} - 3p' + p(-\\frac{p}{2} + p' + 1) = 0\n",
    "$$\n",
    "\n",
    "Risolvendo per $p'$, otteniamo:\n",
    "\n",
    "$$\n",
    "p' = \\frac{\\frac{p^2}{2} - p - \\frac{1}{2}}{p - 3}\n",
    "$$\n"
   ]
  },
  {
   "cell_type": "code",
   "execution_count": 16,
   "id": "907f0cee",
   "metadata": {},
   "outputs": [
    {
     "data": {
      "image/png": "[encoded data removed]",
      "text/plain": [
       "<Figure size 432x288 with 1 Axes>"
      ]
     },
     "metadata": {
      "needs_background": "light"
     },
     "output_type": "display_data"
    }
   ],
   "source": [
    "import numpy as np\n",
    "import matplotlib.pyplot as plt\n",
    "\n",
    "p = np.linspace(-10, 10, 100)  # Range di valori di p\n",
    "p_prime = ( 0.5*p**2 - p -0.5) / (p - 3)  # Calcolo di p' per ogni valore di p\n",
    "\n",
    "\n",
    "plt.plot(p, p_prime)\n",
    "plt.xlabel('p')\n",
    "plt.ylabel('$p_{prime}$')\n",
    "plt.title(\"Grafico di $p_{prime}$ in funzione di p\")\n",
    "plt.grid(True)\n",
    "plt.axhline(y=0, color='black', linewidth=0.8)  # Linea orizzontale in y=0\n",
    "plt.axvline(x=3, color='red', linestyle='--', linewidth=1.5)  # Linea verticale in x=3 (divisore verticale)\n",
    "\n",
    "plt.show()\n"
   ]
  },
  {
   "cell_type": "markdown",
   "id": "4dc37ac0",
   "metadata": {},
   "source": [
    "Osserviamo i valori $p \\in [0,1]$"
   ]
  },
  {
   "cell_type": "code",
   "execution_count": 17,
   "id": "da32c906",
   "metadata": {},
   "outputs": [
    {
     "data": {
      "image/png": "[encoded data removed]",
      "text/plain": [
       "<Figure size 432x288 with 1 Axes>"
      ]
     },
     "metadata": {
      "needs_background": "light"
     },
     "output_type": "display_data"
    }
   ],
   "source": [
    "import numpy as np\n",
    "import matplotlib.pyplot as plt\n",
    "\n",
    "p = np.linspace(0, 1, 100)  # Range di valori di p tra 0 e 1\n",
    "p_prime = (-0.5 + 0.5*p**2 - p) / (p - 3)  # Calcolo di p' per ogni valore di p\n",
    "\n",
    "\n",
    "plt.plot(p, p_prime)\n",
    "plt.xlabel('p')\n",
    "plt.ylabel('$p_{prime}$')\n",
    "plt.title(\"Grafico di p' in funzione di $p \\in [0,1]$\")\n",
    "plt.grid(True)\n",
    "plt.axhline(y=0, color='black', linewidth=0.8)  # Linea orizzontale in y=0\n",
    "plt.axvline(x=1, color='red', linestyle='--', linewidth=1.5)  # Linea verticale in x=1 (divisore verticale)\n",
    "plt.axvline(x=0, color='green', linestyle='--', linewidth=1.5)  # Linea verticale in x=1 (divisore verticale)\n",
    "plt.show()\n"
   ]
  },
  {
   "cell_type": "markdown",
   "id": "689a8cf1",
   "metadata": {},
   "source": [
    "In questo caso sembra che il $p$ che massimizza $p'$ sia $p=1$, ottendendo:\n",
    "\n",
    "$$\n",
    "p = 1 \\rightarrow p' = \\frac{1}{2}\n",
    "$$"
   ]
  },
  {
   "cell_type": "markdown",
   "id": "d455bd0b",
   "metadata": {},
   "source": [
    "**Risolvendo per $p$, otteniamo:**\n",
    "\n",
    "\n",
    "$$ -\\frac{p^2}{2} + (p' - 3) p + \\frac{1}{2} = 0 $$\n",
    "\n",
    "Usando la formula quadratica:\n",
    "$$ p = \\frac{-b \\pm \\sqrt{b^2 - 4ac}}{2a} $$\n",
    "\n",
    "Sostituendo i valori di $a$, $b$ e $c$:\n",
    "$$ p = \\frac{-p' + 3 \\pm \\sqrt{(p' - 3)^2 - 4 \\cdot (-\\frac{1}{2}) \\cdot \\frac{1}{2}}}{2 \\cdot (-\\frac{1}{2})} $$\n",
    "\n",
    "Continuando a semplificare:\n",
    "$$ p = \\frac{p' - 3 \\pm \\sqrt{p'^2 - 6p' + 9 + 1}}{-1} $$\n",
    "\n",
    "Quindi, la soluzione per $p$ è:\n",
    "$$ p = 3 \\pm \\sqrt{p'^2 - 6p' + 10} $$"
   ]
  },
  {
   "cell_type": "code",
   "execution_count": 18,
   "id": "6ab1e716",
   "metadata": {},
   "outputs": [
    {
     "data": {
      "image/png": "[encoded data removed]",
      "text/plain": [
       "<Figure size 576x432 with 1 Axes>"
      ]
     },
     "metadata": {
      "needs_background": "light"
     },
     "output_type": "display_data"
    }
   ],
   "source": [
    "import numpy as np\n",
    "import matplotlib.pyplot as plt\n",
    "\n",
    "p_prime = np.linspace(-10, 10, 100)\n",
    "y_plus = 3 + np.sqrt(p_prime**2 - 6*p_prime + 10)\n",
    "y_minus = 3 - np.sqrt(p_prime**2 - 6*p_prime + 10)\n",
    "\n",
    "plt.figure(figsize=(8, 6))\n",
    "plt.plot(p_prime, y_plus, label=r'$3 + \\sqrt{p_{prime}^2 - p_{prime} + 10}$')\n",
    "plt.plot(p_prime, y_minus, label=r'$3 - \\sqrt{p_{prime}^2 - p_{prime} + 10}$')\n",
    "plt.axhline(y=0, color='black', linewidth=0.8)\n",
    "plt.axvline(x=3, color='red', linestyle='--', linewidth=1.5)\n",
    "plt.xlabel('$p_{prime}$')\n",
    "plt.ylabel('y')\n",
    "plt.title(\"Grafico di p in funzione di p'\")\n",
    "plt.legend()\n",
    "plt.grid(True)\n",
    "\n",
    "plt.show()\n"
   ]
  },
  {
   "cell_type": "code",
   "execution_count": 19,
   "id": "1a78f00b",
   "metadata": {},
   "outputs": [
    {
     "data": {
      "image/png": "[encoded data removed]",
      "text/plain": [
       "<Figure size 576x432 with 1 Axes>"
      ]
     },
     "metadata": {
      "needs_background": "light"
     },
     "output_type": "display_data"
    }
   ],
   "source": [
    "p_prime = np.linspace(0, 1, 100)\n",
    "y_plus = 3 + np.sqrt(p_prime**2 - 6*p_prime + 10)\n",
    "y_minus = 3 - np.sqrt(p_prime**2 - 6*p_prime + 10)\n",
    "\n",
    "plt.figure(figsize=(8, 6))\n",
    "plt.plot(p_prime, y_plus, label=r'$3 + \\sqrt{p_{prime}^2 - p_{prime} + 10}$')\n",
    "plt.plot(p_prime, y_minus, label=r'$3 - \\sqrt{p_{prime}^2 - p_{prime} + 10}$')\n",
    "plt.axhline(y=0, color='black', linewidth=0.8)\n",
    "plt.axvline(x=1, color='red', linestyle='--', linewidth=1.5)\n",
    "plt.axvline(x=0, color='green', linestyle='--', linewidth=1.5)\n",
    "plt.xlabel('$p_{prime}$')\n",
    "plt.ylabel('y')\n",
    "plt.title(\"Grafico di p in funzione di p'\")\n",
    "plt.legend()\n",
    "plt.grid(True)\n",
    "\n",
    "plt.show()\n"
   ]
  },
  {
   "cell_type": "markdown",
   "id": "ec6617de",
   "metadata": {},
   "source": [
    "### Distribuzione Beta"
   ]
  },
  {
   "cell_type": "markdown",
   "id": "fe510ed6",
   "metadata": {},
   "source": [
    "Sia la funzione $GFT(p, p', S, B)$ definita come:\n",
    "\n",
    "$$\n",
    "GFT(p, p', S, B) = (b - p' + p - s) * 1{b ≤ p' ≤ p ≤ s}\n",
    "$$\n",
    "\n",
    "\n",
    "In generale, per una distribuzione beta con parametri $\\alpha$ e $\\beta$, la funzione di densità è data da:\n",
    "\n",
    "$$[f(x; \\alpha, \\beta) = \\frac{x^{\\alpha-1} \\cdot (1 - x)^{\\beta-1}}{B(\\alpha, \\beta)}]$$\n",
    "\n",
    "Dove ${B(\\alpha, \\beta)}$ è la funzione beta (di Eulero), utilizzata come fattore di normalizzazione per rendere l'integrale della funzione di densità pari a 1, pari a:\n",
    "\n",
    "$$\n",
    "B(\\alpha, \\beta) = \\int_{0}^{1} t^{\\alpha - 1} (1 - t)^{\\beta - 1} \\, dt\n",
    "$$\n",
    "\n",
    "Se $S$ e $B$ sono distribuite secondo una distribuzione beta con parametri $\\alpha_S$ e $\\beta_S$ e $\\alpha_B$ e $\\beta_B$ rispettivamente, possiamo scrivere la funzione di densità di $S$ come $f_S(s) = \\frac{s^{\\alpha_S - 1} \\cdot (1 - s)^{\\beta_S - 1}}{B(\\alpha_S, \\beta_S)}$ e la funzione di densità di $B$ come $f_B(b) = \\frac{b^{\\alpha_B - 1} \\cdot (1 - b)^{\\beta_B - 1}}{B(\\alpha_B, \\beta_B)}$.\n",
    "\n",
    "Possiamo scrivere il valore atteso di $\\mathbb E[GFT(p, p', S, B)]$ considerando S e B come due distribuzioni beta come:\n",
    "\n",
    "$$\n",
    "\\mathbb{E}[GFT(p, p', S, B)] =\\int_{0}^{p'} \\left( \\int_{p}^{1} (b - p' + p - s) \\right) \\, \\cdot f_S(s) \\cdot f_B(b) \\, db \\cdot ds\n",
    "$$\n",
    "\n",
    "**1. Calcolo dell'integrale :**\n",
    "\n",
    "$$\n",
    "\\int_{0}^{p'}  \\int_{p}^{1} (b - p' + p - s) \\,\\cdot \\frac{s^{\\alpha_S - 1} \\cdot (1 - s)^{\\beta_S - 1}}{B(\\alpha_S, \\beta_S)} \\cdot \\frac{b^{\\alpha_B - 1} \\cdot (1 - b)^{\\beta_B - 1}}{B(\\alpha_B, \\beta_B)} \\, ds \\cdot db \\\\\n",
    "$$\n",
    "\n",
    "\n",
    "A questo punto:\n",
    "\n",
    "* se $p = p'$, torniamo alla situazione di due distribuzioni Beta in FBP\n",
    "* altrimenti è necessario calcolare l'integrale computazionalmente"
   ]
  },
  {
   "cell_type": "code",
   "execution_count": 20,
   "id": "7866718b",
   "metadata": {},
   "outputs": [],
   "source": [
    "import numpy as np\n",
    "from scipy.stats import beta\n",
    "from scipy.integrate import dblquad\n",
    "\n",
    "\n",
    "def expected_value_SBI_beta(alpha_S, beta_S ,alpha_B, beta_B , p, p_prime, T ):\n",
    "    #La funzione integrand calcola il valore della funzione integranda al punto \n",
    "    #(b,s) in base ai parametri delle distribuzioni.\n",
    "    def integrand(b, s, alpha_S, beta_S, alpha_B, beta_B):\n",
    "        return (b - p + p_prime - s) * beta.pdf(s, alpha_S, beta_S) * beta.pdf(b, alpha_B, beta_B)\n",
    "\n",
    "\n",
    "    #calcola valore atteso\n",
    "    #funzione dblquad: utilizzata per calcolare l'integrale doppio di una funzione in un certo intervallo.\n",
    "\n",
    "    def calculate_expected_value(p, p_prime, alpha_S, beta_S, alpha_B, beta_B):\n",
    "        # Definizione dei limiti di integrazione\n",
    "        inner_lower_limit = p #limite inferiore integrale interno\n",
    "        inner_upper_limit = 1 #limite superiore integrale interno\n",
    "        \n",
    "        outer_lower_limit = 0 #limite inferiore integrale esterno\n",
    "        outer_upper_limit = p_prime #limite superiore integrale esterno\n",
    "\n",
    "        # Argomenti per la funzione integrand\n",
    "        args_integrand = (alpha_S, beta_S, alpha_B, beta_B)\n",
    "\n",
    "        # Calcolo dell'integrale doppio\n",
    "        result, _ = dblquad(integrand, outer_lower_limit, outer_upper_limit, inner_lower_limit, inner_upper_limit, args=args_integrand)\n",
    "\n",
    "        # Ottenere il valore atteso\n",
    "        expected_value = result\n",
    "\n",
    "        # Restituire il valore atteso moltiplicato per T\n",
    "        return expected_value * T\n",
    "\n",
    "\n",
    "    #ottieni valore atteso\n",
    "    expected_value = calculate_expected_value(p, p_prime, alpha_S, beta_S, alpha_B, beta_B)\n",
    "    #restituiamo valore atteso GIA MOLTIPLICATO PER T\n",
    "    return expected_value"
   ]
  },
  {
   "cell_type": "code",
   "execution_count": 21,
   "id": "adb46153-f4ca-4e7a-b1fb-2103f8d1ac2b",
   "metadata": {},
   "outputs": [
    {
     "data": {
      "image/png": "[encoded data removed]",
      "text/plain": [
       "<Figure size 576x432 with 1 Axes>"
      ]
     },
     "metadata": {
      "needs_background": "light"
     },
     "output_type": "display_data"
    },
    {
     "name": "stdout",
     "output_type": "stream",
     "text": [
      "Valore Atteso: 57.131795\n"
     ]
    }
   ],
   "source": [
    "import numpy as np\n",
    "from scipy.stats import beta\n",
    "from scipy.integrate import dblquad\n",
    "import matplotlib.pyplot as plt\n",
    "\n",
    "# Parametri per le distribuzioni beta S e B\n",
    "alpha_S = 2\n",
    "beta_S = 2\n",
    "alpha_B = 3\n",
    "beta_B = 1\n",
    "\n",
    "# valori per p, p_prime, e T\n",
    "p = 0.3\n",
    "p_prime = 0.7\n",
    "T = 100\n",
    "\n",
    "# calcola valore atteso\n",
    "result = expected_value_SBI_beta(alpha_S, beta_S, alpha_B, beta_B, p, p_prime, T)\n",
    "\n",
    "# Comincia Grafico\n",
    "x = np.linspace(0, 1, 1000)\n",
    "plt.figure(figsize=(8, 6))\n",
    "\n",
    "# distribuzione S\n",
    "plt.plot(x, beta.pdf(x, alpha_S, beta_S), label='Distribuzione S', color='blue')\n",
    "\n",
    "# distribuzione B\n",
    "plt.plot(x, beta.pdf(x, alpha_B, beta_B), label='Distribuzione B', color='red')\n",
    "\n",
    "plt.title('Distribuzione S e B')\n",
    "plt.xlabel('p')\n",
    "plt.ylabel('PDF')\n",
    "plt.legend()\n",
    "\n",
    "plt.show()\n",
    "\n",
    "print(\"Valore Atteso:\", result)\n"
   ]
  },
  {
   "cell_type": "markdown",
   "id": "553c2a9f",
   "metadata": {},
   "source": [
    "### Distribuzione Discreta Pesata"
   ]
  },
  {
   "cell_type": "markdown",
   "id": "12dae99f",
   "metadata": {},
   "source": [
    "Sia la funzione $GFT(p, p', S, B)$ definita come:\n",
    "\n",
    "$$\n",
    "GFT(p, p', S, B) = (b - p' + p - s) * \\mathbb I\\lbrace b ≤ p' ≤ p ≤ s \\rbrace\n",
    "$$\n",
    "\n",
    "Il valore atteso di $GFT(p, p', S, B)$ è dato da:\n",
    "\n",
    "$$\n",
    "\\mathbb E[GFT(p, p', S, B)] = \\sum_{t=1}^{T} (b - p' + p - s) * \\mathbb I\\lbrace b ≤ p' ≤ p ≤ s \\rbrace \\cdot P_S(s_t) \\cdot P_B(b_t)\n",
    "$$"
   ]
  },
  {
   "cell_type": "code",
   "execution_count": 22,
   "id": "4f218be4",
   "metadata": {},
   "outputs": [],
   "source": [
    "# dict_weight_intervals_seller rappresenta il dizionario contenente peso_intervallo, (inizio-fine) del seller\n",
    "# dict_weight_intervals_buyer rappresenta il dizionario contenente peso_intervallo, (inizio-fine) del buyer\n",
    "\n",
    "def expected_value_SBI_discrete_uniform(T, p, p_prime, S, B, dict_weight_intervals_seller, dict_weight_intervals_buyer):\n",
    "    expected_regret = 0\n",
    "    \n",
    "    #dato un elemento restituiamo la probabilità che questo esca\n",
    "    #ovvero il peso del suo intervallo\n",
    "    \n",
    "    def prob_element_in_interval(dictionary, el):\n",
    "        for key, value in dictionary.items():\n",
    "            if el <= value:\n",
    "                return key\n",
    "    \n",
    "    for t in range(T):\n",
    "        condition_satisfied = np.logical_and(B[t] <= p_prime, p_prime <= p, p <= S[t])\n",
    "        \"\"\"\n",
    "        The truth value of an empty array is ambiguous. \n",
    "        Returning False, but in future this will result in an error. \n",
    "        Use `array.size > 0` to check that an array is not empty.\n",
    "        \"\"\"\n",
    "        \n",
    "        if condition_satisfied.size > 0: \n",
    "            expected_regret += ((B[t] - p_prime + p - S[t]) * (1 if B[t] <= p_prime <= p <= S[t] else 0)) \\\n",
    "            * prob_element_in_interval(dict_weight_intervals_seller, S[t]) \\\n",
    "            * prob_element_in_interval(dict_weight_intervals_buyer, B[t])\n",
    "                           \n",
    "    expected_regret = expected_regret * T #moltiplichiamo per T\n",
    "    #restituiamo il valore ottenuto\n",
    "    return expected_regret\n"
   ]
  },
  {
   "cell_type": "code",
   "execution_count": 23,
   "id": "6e995c63-49f5-4222-90a9-894243da3412",
   "metadata": {},
   "outputs": [
    {
     "name": "stdout",
     "output_type": "stream",
     "text": [
      "\n",
      "Definire l'i-esimo intervallo: \n",
      "Lower bound:  0 \tUpper bound:  0.111\n",
      "\n",
      "Definire l'i-esimo intervallo: \n",
      "Lower bound:  0.111 \tUpper bound:  0.859\n",
      "\n",
      "Definire l'i-esimo intervallo: \n",
      "Lower bound:  0.859 \tUpper bound:  0.912\n",
      "\n",
      "Definire l'i-esimo intervallo: \n",
      "Lower bound:  0.912 \tUpper bound:  0.955\n",
      "\n",
      "Definire l'i-esimo intervallo: \n",
      "Lower bound:  0.955 \tUpper bound:  1\n",
      "\n",
      "Definire l'i-esimo intervallo: \n",
      "Lower bound:  0 \tUpper bound:  0.041\n",
      "\n",
      "Definire l'i-esimo intervallo: \n",
      "Lower bound:  0.041 \tUpper bound:  0.483\n",
      "\n",
      "Definire l'i-esimo intervallo: \n",
      "Lower bound:  0.483 \tUpper bound:  0.596\n",
      "\n",
      "Definire l'i-esimo intervallo: \n",
      "Lower bound:  0.596 \tUpper bound:  0.868\n",
      "\n",
      "Definire l'i-esimo intervallo: \n",
      "Lower bound:  0.868 \tUpper bound:  1.0\n",
      "\n",
      "Definire l'i-esimo intervallo: \n",
      "Lower bound:  1.0 \tUpper bound:  1.0\n",
      "\n",
      "Definire l'i-esimo intervallo: \n",
      "Lower bound:  1.0 \tUpper bound:  1.0\n",
      "\n",
      "Definire l'i-esimo intervallo: \n",
      "Lower bound:  1.0 \tUpper bound:  1\n",
      "Dizionario peso-intervallo del Seller:  {257: 0.111, 29: 0.859, 5: 0.912, 1: 0.955, 8: 1}\n",
      "Dizionario peso-intervallo del Buyer:  {66: 0.041, 114: 0.483, 69: 0.596, 30: 0.868, 6: 1.0, 2: 1.0, 3: 1.0, 10: 1}\n",
      "Valore atteso:  0\n"
     ]
    },
    {
     "data": {
      "image/png": "[encoded data removed]",
      "text/plain": [
       "<Figure size 1080x360 with 2 Axes>"
      ]
     },
     "metadata": {
      "needs_background": "light"
     },
     "output_type": "display_data"
    }
   ],
   "source": [
    "T = 300\n",
    "num_cifre = 3\n",
    "\n",
    "# valori per p, p_prime, e T\n",
    "p = np.round(np.random.rand(0,1), 1)\n",
    "p_prime = np.round(np.random.rand(0,1), 1)\n",
    "\n",
    "S_D_tmp, S_num_of_els_in_intervals, interval_list_s  = generate_random_weighted_distribution(T, num_cifre)\n",
    "B_D_tmp, B_num_of_els_in_intervals, interval_list_b  = generate_random_weighted_distribution(T, num_cifre)\n",
    "\n",
    "S_D = np.concatenate(S_D_tmp).tolist()\n",
    "B_D = np.concatenate(B_D_tmp).tolist()\n",
    "\n",
    "dict_weight_intervals_seller = dict(zip(S_num_of_els_in_intervals, interval_list_s))\n",
    "dict_weight_intervals_buyer = dict(zip(B_num_of_els_in_intervals, interval_list_b))\n",
    "\n",
    "expected_value = expected_value_SBI_discrete_uniform(T, p,p_prime, S_D, B_D, dict_weight_intervals_seller, dict_weight_intervals_buyer)\n",
    "\n",
    "print(\"Dizionario peso-intervallo del Seller: \",dict_weight_intervals_seller)\n",
    "print(\"Dizionario peso-intervallo del Buyer: \",dict_weight_intervals_buyer)\n",
    "\n",
    "print(\"Valore atteso: \", expected_value)\n",
    "draw_weighted_distribution(S_D,B_D,interval_list_s,interval_list_b)"
   ]
  },
  {
   "cell_type": "code",
   "execution_count": null,
   "id": "3f8d2d12-0002-4bda-8bc8-1702f5090e01",
   "metadata": {},
   "outputs": [],
   "source": []
  }
 ],
 "metadata": {
  "kernelspec": {
   "display_name": "Python 3 (ipykernel)",
   "language": "python",
   "name": "python3"
  },
  "language_info": {
   "codemirror_mode": {
    "name": "ipython",
    "version": 3
   },
   "file_extension": ".py",
   "mimetype": "text/x-python",
   "name": "python",
   "nbconvert_exporter": "python",
   "pygments_lexer": "ipython3",
   "version": "3.9.19"
  }
 },
 "nbformat": 4,
 "nbformat_minor": 5
}

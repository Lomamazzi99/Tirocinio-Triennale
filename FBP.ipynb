{
 "cells": [
  {
   "cell_type": "markdown",
   "id": "0806078b",
   "metadata": {},
   "source": [
    "## Follow the Best Price (FBP)\n",
    "\n",
    "initialization $P_1$ &larr;  1/2\n",
    "\n",
    "**for t=1,2.... do:**\n",
    "    \n",
    "   &emsp;post price $P_t$;\n",
    "    \n",
    "   &emsp;receive feedback ($S_t, B_t$)\n",
    "    \n",
    "   &emsp;pick $P_{t+1} \\in argmax_{p \\in [0,1]}\\frac{1}{t}\\sum_{i=1}^t {GFT(p, S_i, B_i)}$\n",
    "    \n",
    "**end**"
   ]
  },
  {
   "cell_type": "code",
   "execution_count": 8,
   "id": "c09bfddd",
   "metadata": {},
   "outputs": [],
   "source": [
    "import numpy as np\n",
    "import math"
   ]
  },
  {
   "cell_type": "code",
   "execution_count": 9,
   "id": "6f309e60",
   "metadata": {},
   "outputs": [],
   "source": [
    "def gft(p, s, b): #gft(prezzo, prezzo seller, prezzo buyer)\n",
    "    return (b-s) if ((s <= p) & (p <= b)) else 0 #return (b-s) * I(s <= p <= b)"
   ]
  },
  {
   "cell_type": "code",
   "execution_count": 10,
   "id": "a55a40dd",
   "metadata": {},
   "outputs": [],
   "source": [
    "def findBestPrice(price,S,B,max_sum,t): #findBestPrice(array di prezzi, valori seller, valori buyer,valore somma massima, #round)\n",
    "    \n",
    "    best_p = 0      #miglior prezzo fino ad ora trovato\n",
    "    for p in price: #per ogni p nell'array di prezzi\n",
    "        value = 0         #valore somma \n",
    "        i = 1             #indice somma\n",
    "        \n",
    "        while (i <= t): #for i=1 to t\n",
    "            value += gft(p, S[i-1], B[i-1]) #i-esimo gft + quelli precedenti\n",
    "            i+=1 #aggiorna indice somma\n",
    "        \n",
    "        value = (1.0/t) * value # 1/t * valore somma per t round\n",
    "\n",
    "        if(max_sum <= value):\n",
    "            max_sum = value #se value calcolato con prezzo p è maggiore di quello attuale, max è pari a value\n",
    "            best_p = p\n",
    "            \n",
    "    return best_p,max_sum"
   ]
  },
  {
   "cell_type": "code",
   "execution_count": 11,
   "id": "352a5440",
   "metadata": {},
   "outputs": [],
   "source": [
    "def argmax(t,S,B):     #argmax(numero round osservati, valori seller, valori buyer)\n",
    "    \n",
    "    max_sum = 0               #miglior prezzo medio al t-esimo round\n",
    "    price = np.arange(0.0, 1.0, 1 / math.pow(10,num_cifre)) #array che contiene i prezzi\n",
    "    \n",
    "    best_p,max_sum = findBestPrice(price,S,B,max_sum,t)\n",
    "    \n",
    "    \n",
    "    print(\"il massimo guadagno medio è: \", max_sum)\n",
    "    #if(max_sum == 0): print(\"Valore seller > valore buyer. Nessun prezzo trovato\")\n",
    "    #else: print(\"il prezzo p che massimizza il guadagno medio al round\", t, \"° è: \", best_p) #valore trovato\n",
    "        \n",
    "    return best_p #return 𝑎𝑟𝑔𝑚𝑎𝑥\n"
   ]
  },
  {
   "cell_type": "code",
   "execution_count": 34,
   "id": "6cc56f6d",
   "metadata": {},
   "outputs": [],
   "source": [
    "def FBP(S,B):\n",
    "    t = 1\n",
    "    p = 0.5\n",
    "    while (t <= len(S)):\n",
    "        print(\"\\nRound: #\",t)\n",
    "        #post price, Feedback\n",
    "        print(\"t-esimo Prezzo P: \", p, \"\\nt-esimo Prezzo Seller: \", S[t-1], \"\\nt-esimo Prezzo Buyer: \", B[t-1])\n",
    "        #print(S,B) #show feedback\n",
    "        p = argmax(t, S, B) #pick P_{t+1}\n",
    "        t += 1 #next round"
   ]
  },
  {
   "cell_type": "code",
   "execution_count": null,
   "id": "08e1fac0",
   "metadata": {},
   "outputs": [],
   "source": [
    "num_round = int(input(\"Inserire numero di Round: \\n\"))\n",
    "while True:\n",
    "    num_cifre = int(input(\"Inserire massimo numero di cifre dopo la virgola: \\n\"))\n",
    "    if(num_cifre < 8): break"
   ]
  },
  {
   "cell_type": "code",
   "execution_count": 36,
   "id": "34a9c60e",
   "metadata": {},
   "outputs": [],
   "source": [
    "S = np.around(np.random.uniform(0.0,1.1,num_round), num_cifre)\n",
    "B = np.around(np.random.uniform(0.0,1.1,num_round), num_cifre)"
   ]
  },
  {
   "cell_type": "code",
   "execution_count": null,
   "id": "bac0bf42",
   "metadata": {},
   "outputs": [],
   "source": [
    "FBP(S,B)"
   ]
  }
 ],
 "metadata": {
  "kernelspec": {
   "display_name": "Python 3",
   "language": "python",
   "name": "python3"
  },
  "language_info": {
   "codemirror_mode": {
    "name": "ipython",
    "version": 3
   },
   "file_extension": ".py",
   "mimetype": "text/x-python",
   "name": "python",
   "nbconvert_exporter": "python",
   "pygments_lexer": "ipython3",
   "version": "3.8.8"
  }
 },
 "nbformat": 4,
 "nbformat_minor": 5
}
